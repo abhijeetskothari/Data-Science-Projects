{
 "cells": [
  {
   "cell_type": "code",
   "execution_count": 12,
   "metadata": {},
   "outputs": [],
   "source": [
    "#all libraries here\n",
    "import pandas as pd\n",
    "import math\n",
    "import numpy as np\n",
    "from sklearn.preprocessing import MinMaxScaler\n",
    "import seaborn as sb\n",
    "import matplotlib.pyplot as plt\n",
    "from sklearn.model_selection import train_test_split\n",
    "from sklearn.metrics import r2_score\n",
    "from sklearn.metrics import mean_squared_error\n",
    "from sklearn.metrics import mean_absolute_error\n",
    "from sklearn.linear_model import LinearRegression\n",
    "from sklearn.linear_model import Ridge\n",
    "from sklearn.linear_model import Lasso\n",
    "from sklearn.ensemble import RandomForestRegressor\n",
    "from sklearn.tree import DecisionTreeRegressor\n"
   ]
  },
  {
   "cell_type": "markdown",
   "metadata": {},
   "source": [
    "### Dataset Information"
   ]
  },
  {
   "cell_type": "code",
   "execution_count": 2,
   "metadata": {},
   "outputs": [],
   "source": [
    "train_df=pd.read_csv('cleaned_batman_final_train.csv')\n",
    "test_df=pd.read_csv('cleaned_batman_final_test_updated.csv')"
   ]
  },
  {
   "cell_type": "code",
   "execution_count": 28,
   "metadata": {},
   "outputs": [
    {
     "name": "stdout",
     "output_type": "stream",
     "text": [
      "<class 'pandas.core.frame.DataFrame'>\n",
      "RangeIndex: 200000 entries, 0 to 199999\n",
      "Data columns (total 25 columns):\n",
      "NumberOfPassengers           200000 non-null int64\n",
      "distance                     200000 non-null float64\n",
      "month_Apr                    200000 non-null int64\n",
      "month_Feb                    200000 non-null int64\n",
      "month_Jan                    200000 non-null int64\n",
      "month_Jul                    200000 non-null int64\n",
      "month_Jun                    200000 non-null int64\n",
      "month_Mar                    200000 non-null int64\n",
      "month_May                    200000 non-null int64\n",
      "part_of_month_early month    200000 non-null int64\n",
      "part_of_month_end month      200000 non-null int64\n",
      "part_of_month_mid month      200000 non-null int64\n",
      "weekday_Friday               200000 non-null int64\n",
      "weekday_Monday               200000 non-null int64\n",
      "weekday_Saturday             200000 non-null int64\n",
      "weekday_Sunday               200000 non-null int64\n",
      "weekday_Thursday             200000 non-null int64\n",
      "weekday_Tuesday              200000 non-null int64\n",
      "weekday_Wednesday            200000 non-null int64\n",
      "part_of_day_afternoon        200000 non-null int64\n",
      "part_of_day_early morning    200000 non-null int64\n",
      "part_of_day_evening          200000 non-null int64\n",
      "part_of_day_late night       200000 non-null int64\n",
      "part_of_day_morning          200000 non-null int64\n",
      "part_of_day_night            200000 non-null int64\n",
      "dtypes: float64(1), int64(24)\n",
      "memory usage: 38.1 MB\n"
     ]
    }
   ],
   "source": [
    "test_df.info()"
   ]
  },
  {
   "cell_type": "code",
   "execution_count": 3,
   "metadata": {},
   "outputs": [],
   "source": [
    "#new copy\n",
    "dataframe=train_df.copy()"
   ]
  },
  {
   "cell_type": "code",
   "execution_count": 4,
   "metadata": {},
   "outputs": [],
   "source": [
    "#dividing dataframe into features and target variable\n",
    "target=dataframe['duration']\n",
    "features=dataframe.drop(columns=['duration'])"
   ]
  },
  {
   "cell_type": "markdown",
   "metadata": {},
   "source": [
    "### Modeling"
   ]
  },
  {
   "cell_type": "code",
   "execution_count": 6,
   "metadata": {},
   "outputs": [
    {
     "name": "stdout",
     "output_type": "stream",
     "text": [
      "Training set has 799968 samples.\n",
      "Testing set has 199992 samples.\n"
     ]
    }
   ],
   "source": [
    "# Split the dataset into training and testing sets\n",
    "X_train, X_test, y_train, y_test = train_test_split(features, \n",
    "                                                    target, \n",
    "                                                    test_size = 0.2, \n",
    "                                                    random_state = 0)\n",
    "\n",
    "# Show the results of the split\n",
    "print(\"Training set has {} samples.\".format(X_train.shape[0]))\n",
    "print(\"Testing set has {} samples.\".format(X_test.shape[0]))"
   ]
  },
  {
   "cell_type": "markdown",
   "metadata": {},
   "source": [
    "#### Functions to calculate metrics to evaluate regression model: R Square,Adjusted R Square, MSE, RMSE, MAE"
   ]
  },
  {
   "cell_type": "code",
   "execution_count": 7,
   "metadata": {},
   "outputs": [],
   "source": [
    "def cal_metrics(y_true, y_pred):\n",
    "    print('R2 Score: {}'.format(r2_score(y_true, y_pred)))\n",
    "    print('MSE: {}'.format(mean_squared_error(y_true, y_pred)))\n",
    "    print('RMSE: {}'.format(math.sqrt(mean_squared_error(y_true, y_pred))))\n",
    "    print('MAE: {}'.format(mean_absolute_error(y_true, y_pred)))"
   ]
  },
  {
   "cell_type": "markdown",
   "metadata": {},
   "source": [
    "#### Models:"
   ]
  },
  {
   "cell_type": "markdown",
   "metadata": {},
   "source": [
    "Linear Regression Model:"
   ]
  },
  {
   "cell_type": "code",
   "execution_count": 8,
   "metadata": {},
   "outputs": [
    {
     "name": "stdout",
     "output_type": "stream",
     "text": [
      "********* On Test Data *************\n",
      "R2 Score: 0.6642082411823583\n",
      "MSE: 0.2013567843574061\n",
      "RMSE: 0.4487279625312045\n",
      "MAE: 0.32822684844961414\n",
      "\n",
      "********* On Train Data *************\n",
      "R2 Score: 0.664786750121625\n",
      "MSE: 0.20049789122142078\n",
      "RMSE: 0.4477699087940376\n",
      "MAE: 0.32812284709317363\n"
     ]
    },
    {
     "data": {
      "image/png": "[encoded data removed]",
      "text/plain": [
       "<Figure size 432x288 with 1 Axes>"
      ]
     },
     "metadata": {
      "needs_background": "light"
     },
     "output_type": "display_data"
    }
   ],
   "source": [
    "model_lr=LinearRegression()\n",
    "model_lr.fit(X_train, y_train)\n",
    "\n",
    "print('********* On Test Data *************')\n",
    "preds_lr=model_lr.predict(X_test)\n",
    "cal_metrics(y_test, preds_lr)\n",
    "\n",
    "print()\n",
    "print('********* On Train Data *************')\n",
    "train_lr=model_lr.predict(X_train)\n",
    "cal_metrics(y_train, train_lr)\n",
    "\n",
    "#residual curve\n",
    "(y_test-preds_lr).hist();"
   ]
  },
  {
   "cell_type": "markdown",
   "metadata": {},
   "source": [
    "Ridge Model:"
   ]
  },
  {
   "cell_type": "code",
   "execution_count": 9,
   "metadata": {},
   "outputs": [
    {
     "name": "stdout",
     "output_type": "stream",
     "text": [
      "********* On Test Data *************\n",
      "R2 Score: 0.6642078389306632\n",
      "MSE: 0.2013570255667441\n",
      "RMSE: 0.4487282313012455\n",
      "MAE: 0.3282253946206945\n",
      "\n",
      "********* On Train Data *************\n",
      "R2 Score: 0.6647883653685726\n",
      "MSE: 0.2004969251092313\n",
      "RMSE: 0.4477688299884566\n",
      "MAE: 0.32812179148948045\n"
     ]
    },
    {
     "data": {
      "image/png": "[encoded data removed]",
      "text/plain": [
       "<Figure size 432x288 with 1 Axes>"
      ]
     },
     "metadata": {
      "needs_background": "light"
     },
     "output_type": "display_data"
    }
   ],
   "source": [
    "model_rd=Ridge(alpha=0.01)\n",
    "model_rd.fit(X_train, y_train)\n",
    "\n",
    "print('********* On Test Data *************')\n",
    "preds_rd=model_rd.predict(X_test)\n",
    "cal_metrics(y_test, preds_rd)\n",
    "\n",
    "print()\n",
    "print('********* On Train Data *************')\n",
    "train_rd=model_rd.predict(X_train)\n",
    "cal_metrics(y_train, train_rd)\n",
    "\n",
    "#residual curve\n",
    "(y_test-preds_rd).hist();"
   ]
  },
  {
   "cell_type": "markdown",
   "metadata": {},
   "source": [
    "Lasso Model:"
   ]
  },
  {
   "cell_type": "code",
   "execution_count": 10,
   "metadata": {},
   "outputs": [
    {
     "name": "stdout",
     "output_type": "stream",
     "text": [
      "********* On Test Data *************\n",
      "R2 Score: 0.6501042033027845\n",
      "MSE: 0.20981423942981695\n",
      "RMSE: 0.45805484325549595\n",
      "MAE: 0.337226303148427\n",
      "\n",
      "********* On Train Data *************\n",
      "R2 Score: 0.6506955195339768\n",
      "MSE: 0.20892614403828688\n",
      "RMSE: 0.4570843948750459\n",
      "MAE: 0.3371151634461911\n"
     ]
    },
    {
     "data": {
      "image/png": "[encoded data removed]",
      "text/plain": [
       "<Figure size 432x288 with 1 Axes>"
      ]
     },
     "metadata": {
      "needs_background": "light"
     },
     "output_type": "display_data"
    }
   ],
   "source": [
    "model_ls=Lasso(alpha=0.01)\n",
    "model_ls.fit(X_train, y_train)\n",
    "\n",
    "print('********* On Test Data *************')\n",
    "preds_ls=model_ls.predict(X_test)\n",
    "cal_metrics(y_test, preds_ls)\n",
    "\n",
    "print()\n",
    "print('********* On Train Data *************')\n",
    "train_ls=model_ls.predict(X_train)\n",
    "cal_metrics(y_train, train_ls)\n",
    "\n",
    "#residual curve\n",
    "(y_test-preds_ls).hist();"
   ]
  },
  {
   "cell_type": "markdown",
   "metadata": {},
   "source": [
    "Random Forest"
   ]
  },
  {
   "cell_type": "code",
   "execution_count": 13,
   "metadata": {},
   "outputs": [
    {
     "name": "stderr",
     "output_type": "stream",
     "text": [
      "C:\\Users\\Abhijeet\\Anaconda3\\lib\\site-packages\\sklearn\\ensemble\\forest.py:246: FutureWarning: The default value of n_estimators will change from 10 in version 0.20 to 100 in 0.22.\n",
      "  \"10 in version 0.20 to 100 in 0.22.\", FutureWarning)\n"
     ]
    },
    {
     "name": "stdout",
     "output_type": "stream",
     "text": [
      "********* On Test Data *************\n",
      "R2 Score: 0.6244555687831514\n",
      "MSE: 0.22519438630482222\n",
      "RMSE: 0.4745465059452258\n",
      "MAE: 0.3452417646992064\n",
      "\n",
      "********* On Train Data *************\n",
      "R2 Score: 0.9252271295136768\n",
      "MSE: 0.04472318101542725\n",
      "RMSE: 0.21147855923338246\n",
      "MAE: 0.13702546998690668\n"
     ]
    },
    {
     "data": {
      "image/png": "[encoded data removed]",
      "text/plain": [
       "<Figure size 432x288 with 1 Axes>"
      ]
     },
     "metadata": {
      "needs_background": "light"
     },
     "output_type": "display_data"
    }
   ],
   "source": [
    "model_rf=RandomForestRegressor()\n",
    "model_rf.fit(X_train, y_train)\n",
    "\n",
    "print('********* On Test Data *************')\n",
    "preds_rf=model_rf.predict(X_test)\n",
    "cal_metrics(y_test, preds_rf)\n",
    "\n",
    "print()\n",
    "print('********* On Train Data *************')\n",
    "train_rf=model_rf.predict(X_train)\n",
    "cal_metrics(y_train, train_rf)\n",
    "\n",
    "#residual curve\n",
    "(y_test-preds_rf).hist();"
   ]
  },
  {
   "cell_type": "markdown",
   "metadata": {},
   "source": [
    "Desicion Tree Regressor:\n"
   ]
  },
  {
   "cell_type": "code",
   "execution_count": 14,
   "metadata": {},
   "outputs": [
    {
     "name": "stdout",
     "output_type": "stream",
     "text": [
      "********* On Test Data *************\n",
      "R2 Score: 0.38859965755106096\n",
      "MSE: 0.36662486102701636\n",
      "RMSE: 0.6054955499646685\n",
      "MAE: 0.4458008234806368\n",
      "\n",
      "********* On Train Data *************\n",
      "R2 Score: 0.987475572129909\n",
      "MSE: 0.007491116110771712\n",
      "RMSE: 0.08655123402223514\n",
      "MAE: 0.003916229640439926\n"
     ]
    },
    {
     "data": {
      "image/png": "[encoded data removed]",
      "text/plain": [
       "<Figure size 432x288 with 1 Axes>"
      ]
     },
     "metadata": {
      "needs_background": "light"
     },
     "output_type": "display_data"
    }
   ],
   "source": [
    "model_dtr=DecisionTreeRegressor()\n",
    "model_dtr.fit(X_train, y_train)\n",
    "\n",
    "print('********* On Test Data *************')\n",
    "preds_dtr=model_dtr.predict(X_test)\n",
    "cal_metrics(y_test, preds_dtr)\n",
    "\n",
    "print()\n",
    "print('********* On Train Data *************')\n",
    "train_dtr=model_dtr.predict(X_train)\n",
    "cal_metrics(y_train, train_dtr)\n",
    "\n",
    "#residual curve\n",
    "(y_test-preds_dtr).hist();\n"
   ]
  },
  {
   "cell_type": "markdown",
   "metadata": {},
   "source": [
    "# Results:"
   ]
  },
  {
   "cell_type": "code",
   "execution_count": 11,
   "metadata": {},
   "outputs": [
    {
     "data": {
      "text/plain": [
       "array([1995.28317133,  459.04598518,  970.2594176 , ...,  277.83131811,\n",
       "        673.74243933, 1532.54691282])"
      ]
     },
     "execution_count": 11,
     "metadata": {},
     "output_type": "execute_result"
    }
   ],
   "source": [
    "#result\n",
    "np.exp(preds_lr) #here I have passed predictions of linear regression model"
   ]
  },
  {
   "cell_type": "code",
   "execution_count": null,
   "metadata": {},
   "outputs": [],
   "source": []
  },
  {
   "cell_type": "markdown",
   "metadata": {},
   "source": [
    "# Final Predictions (On Competition Test Data)"
   ]
  },
  {
   "cell_type": "code",
   "execution_count": 15,
   "metadata": {},
   "outputs": [
    {
     "data": {
      "text/plain": [
       "LinearRegression(copy_X=True, fit_intercept=True, n_jobs=None,\n",
       "         normalize=False)"
      ]
     },
     "execution_count": 15,
     "metadata": {},
     "output_type": "execute_result"
    }
   ],
   "source": [
    "#training linear regression model on the complete training data now\n",
    "\n",
    "#dividing dataframe into features and target variable\n",
    "dataframe=train_df.copy()\n",
    "target=dataframe['duration']\n",
    "features=dataframe.drop(columns=['duration'])\n",
    "\n",
    "model_lr=LinearRegression()\n",
    "model_lr.fit(features, target)"
   ]
  },
  {
   "cell_type": "code",
   "execution_count": 16,
   "metadata": {},
   "outputs": [],
   "source": [
    "#predicting duration for test data file\n",
    "final_preds=model_lr.predict(test_df)\n",
    "final_preds=np.exp(final_preds)"
   ]
  },
  {
   "cell_type": "code",
   "execution_count": 17,
   "metadata": {},
   "outputs": [],
   "source": [
    "#convering the array to a dataframe\n",
    "final_dataframe=pd.DataFrame(final_preds, columns=['duration'])"
   ]
  },
  {
   "cell_type": "code",
   "execution_count": 18,
   "metadata": {},
   "outputs": [
    {
     "data": {
      "text/html": [
       "<div>\n",
       "<style scoped>\n",
       "    .dataframe tbody tr th:only-of-type {\n",
       "        vertical-align: middle;\n",
       "    }\n",
       "\n",
       "    .dataframe tbody tr th {\n",
       "        vertical-align: top;\n",
       "    }\n",
       "\n",
       "    .dataframe thead th {\n",
       "        text-align: right;\n",
       "    }\n",
       "</style>\n",
       "<table border=\"1\" class=\"dataframe\">\n",
       "  <thead>\n",
       "    <tr style=\"text-align: right;\">\n",
       "      <th></th>\n",
       "      <th>duration</th>\n",
       "    </tr>\n",
       "  </thead>\n",
       "  <tbody>\n",
       "    <tr>\n",
       "      <th>0</th>\n",
       "      <td>579.651324</td>\n",
       "    </tr>\n",
       "    <tr>\n",
       "      <th>1</th>\n",
       "      <td>268.610324</td>\n",
       "    </tr>\n",
       "    <tr>\n",
       "      <th>2</th>\n",
       "      <td>283.328342</td>\n",
       "    </tr>\n",
       "    <tr>\n",
       "      <th>3</th>\n",
       "      <td>356.111591</td>\n",
       "    </tr>\n",
       "    <tr>\n",
       "      <th>4</th>\n",
       "      <td>808.606584</td>\n",
       "    </tr>\n",
       "  </tbody>\n",
       "</table>\n",
       "</div>"
      ],
      "text/plain": [
       "     duration\n",
       "0  579.651324\n",
       "1  268.610324\n",
       "2  283.328342\n",
       "3  356.111591\n",
       "4  808.606584"
      ]
     },
     "execution_count": 18,
     "metadata": {},
     "output_type": "execute_result"
    }
   ],
   "source": [
    "#first few rows of the dataframe\n",
    "final_dataframe.head()"
   ]
  },
  {
   "cell_type": "code",
   "execution_count": 19,
   "metadata": {},
   "outputs": [],
   "source": [
    "#saving\n",
    "final_dataframe.to_csv('./FINAL ML RESULTS/duration.csv', index=False)"
   ]
  },
  {
   "cell_type": "code",
   "execution_count": null,
   "metadata": {},
   "outputs": [],
   "source": []
  }
 ],
 "metadata": {
  "kernelspec": {
   "display_name": "Python 3",
   "language": "python",
   "name": "python3"
  },
  "language_info": {
   "codemirror_mode": {
    "name": "ipython",
    "version": 3
   },
   "file_extension": ".py",
   "mimetype": "text/x-python",
   "name": "python",
   "nbconvert_exporter": "python",
   "pygments_lexer": "ipython3",
   "version": "3.7.1"
  }
 },
 "nbformat": 4,
 "nbformat_minor": 2
}
