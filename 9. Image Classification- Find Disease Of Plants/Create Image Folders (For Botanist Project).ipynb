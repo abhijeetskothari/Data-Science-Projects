{
 "cells": [
  {
   "cell_type": "code",
   "execution_count": 15,
   "metadata": {},
   "outputs": [],
   "source": [
    "import pandas as pd\n",
    "import os\n",
    "import numpy as np\n",
    "import matplotlib.pyplot as plt"
   ]
  },
  {
   "cell_type": "code",
   "execution_count": 2,
   "metadata": {},
   "outputs": [],
   "source": [
    "#read the file which has image names and their respective labels \n",
    "df=pd.read_csv('Botanist_Training_Set.csv')"
   ]
  },
  {
   "cell_type": "code",
   "execution_count": 3,
   "metadata": {},
   "outputs": [],
   "source": [
    "#group by the labels\n",
    "grouped_df=df.groupby('Label')['FileName']"
   ]
  },
  {
   "cell_type": "code",
   "execution_count": 6,
   "metadata": {},
   "outputs": [],
   "source": [
    "dict1={}\n",
    "dict2={}\n",
    "for key, item in grouped_df:\n",
    "    list1=grouped_df.get_group(key).tolist()\n",
    "    dict1[key]=list1 #saving label and it's corresponsing image numbers\n",
    "    dict2[key]=len(list1) #saving label and number of images for that particular label"
   ]
  },
  {
   "cell_type": "code",
   "execution_count": 14,
   "metadata": {},
   "outputs": [
    {
     "data": {
      "image/png": "[encoded data removed]",
      "text/plain": [
       "<Figure size 720x360 with 1 Axes>"
      ]
     },
     "metadata": {
      "needs_background": "light"
     },
     "output_type": "display_data"
    }
   ],
   "source": [
    "#bar plot for labels and their image counts\n",
    "\n",
    "keys=dict2.keys()\n",
    "values=[]\n",
    "for k in keys:\n",
    "    values.append(dict1[k])\n",
    "\n",
    "fig = plt.figure(figsize = (10, 5))\n",
    " \n",
    "# creating the bar plot\n",
    "plt.bar(keys, values, color ='maroon',\n",
    "        width = 0.4)\n",
    " \n",
    "plt.xlabel(\"Labels\")\n",
    "plt.ylabel(\"No. of images\")\n",
    "plt.title(\"Images for lables\")\n",
    "plt.show()"
   ]
  },
  {
   "cell_type": "code",
   "execution_count": 5,
   "metadata": {},
   "outputs": [],
   "source": [
    "#reading images one by one and saving them in a list\n",
    "\n",
    "from PIL import Image\n",
    "import glob\n",
    "image_list = []\n",
    "filenames=[]\n",
    "for filename in glob.glob('C:/Users/Abhijeet/Desktop/Final-ML/Data/TypeB_Botanist/TrainFiles/*.jpg'): \n",
    "    filenames.append(filename)\n",
    "    temp=Image.open(filename)\n",
    "    im=temp.copy()\n",
    "    image_list.append(im)\n",
    "    temp.close()\n",
    "    \n",
    "filenames=[i.split('\\\\')[1] for i in filenames]"
   ]
  },
  {
   "cell_type": "code",
   "execution_count": 28,
   "metadata": {},
   "outputs": [],
   "source": [
    "#creating folder for each label and saving all the corresponding images to that folder\n",
    "\n",
    "parent_dir = \"./Desktop/Final-ML/Data/TypeB_Botanist/Segregated Data/\"\n",
    "keys=dict1.keys()\n",
    "error=[]\n",
    "for key in keys:\n",
    "    path = os.path.join(parent_dir, str(key))\n",
    "    os.mkdir(path)\n",
    "    for number in dict1[key]:\n",
    "        index=filenames.index(str(number)+'.jpg')\n",
    "        image=image_list[index]\n",
    "        try:\n",
    "            image.save(path+'/'+str(number)+'.jpg') \n",
    "        except:\n",
    "            error.append(index)"
   ]
  },
  {
   "cell_type": "code",
   "execution_count": null,
   "metadata": {},
   "outputs": [],
   "source": [
    "#label mapping dictionary \n",
    "cat_to_json={\"0\":\"Apple\",\"1\":\"Apple\",\"2\":\"Apple\",\"3\":\"Apple\",\"4\":\"Blueberry\",\"5\":\"Cherry\",\"6\":\"Cherry\",\"7\":\"Corn\",\"8\":\"Corn\",\"9\":\"Corn\",\"10\":\"Corn\",\"11\":\"Grape\",\"12\":\"Grape\",\"13\":\"Grape\",\"14\":\"Grape\",\"15\":\"Orange\",\"16\":\"Peach\",\"17\":\"Peach\",\"18\":\"Pepper\",\"19\":\"Pepper\",\"20\":\"Potato\",\"21\":\"Potato\",\"22\":\"Potato\",\"23\":\"Raspberry\",\"24\":\"Soybean\",\"25\":\"Squash\",\"26\":\"Strawberry\",\"27\":\"Strawberry\",\"28\":\"Tomato\",\"29\":\"Tomato\",\"30\":\"Tomato\",\"31\":\"Tomato\",\"32\":\"Tomato\",\"33\":\"Tomato\",\"34\":\"Tomato\",\"35\":\"Tomato\",\"36\":\"Tomato\",\"37\":\"Tomato\"}"
   ]
  },
  {
   "cell_type": "code",
   "execution_count": null,
   "metadata": {},
   "outputs": [],
   "source": []
  }
 ],
 "metadata": {
  "kernelspec": {
   "display_name": "Python 3",
   "language": "python",
   "name": "python3"
  },
  "language_info": {
   "codemirror_mode": {
    "name": "ipython",
    "version": 3
   },
   "file_extension": ".py",
   "mimetype": "text/x-python",
   "name": "python",
   "nbconvert_exporter": "python",
   "pygments_lexer": "ipython3",
   "version": "3.7.1"
  }
 },
 "nbformat": 4,
 "nbformat_minor": 2
}
