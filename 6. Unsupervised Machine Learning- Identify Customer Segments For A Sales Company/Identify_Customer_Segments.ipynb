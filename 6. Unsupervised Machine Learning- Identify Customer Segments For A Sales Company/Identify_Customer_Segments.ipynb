{
 "cells": [
  {
   "cell_type": "markdown",
   "metadata": {},
   "source": [
    "# Project: Identify Customer Segments\n",
    "\n",
    "In this project, you will apply unsupervised learning techniques to identify segments of the population that form the core customer base for a mail-order sales company in Germany. These segments can then be used to direct marketing campaigns towards audiences that will have the highest expected rate of returns. The data that you will use has been provided by our partners at Bertelsmann Arvato Analytics, and represents a real-life data science task.\n",
    "\n",
    "This notebook will help you complete this task by providing a framework within which you will perform your analysis steps. In each step of the project, you will see some text describing the subtask that you will perform, followed by one or more code cells for you to complete your work. **Feel free to add additional code and markdown cells as you go along so that you can explore everything in precise chunks.** The code cells provided in the base template will outline only the major tasks, and will usually not be enough to cover all of the minor tasks that comprise it.\n",
    "\n",
    "It should be noted that while there will be precise guidelines on how you should handle certain tasks in the project, there will also be places where an exact specification is not provided. **There will be times in the project where you will need to make and justify your own decisions on how to treat the data.** These are places where there may not be only one way to handle the data. In real-life tasks, there may be many valid ways to approach an analysis task. One of the most important things you can do is clearly document your approach so that other scientists can understand the decisions you've made.\n",
    "\n",
    "At the end of most sections, there will be a Markdown cell labeled **Discussion**. In these cells, you will report your findings for the completed section, as well as document the decisions that you made in your approach to each subtask. **Your project will be evaluated not just on the code used to complete the tasks outlined, but also your communication about your observations and conclusions at each stage.**"
   ]
  },
  {
   "cell_type": "code",
   "execution_count": null,
   "metadata": {},
   "outputs": [],
   "source": []
  },
  {
   "cell_type": "code",
   "execution_count": 262,
   "metadata": {},
   "outputs": [
    {
     "data": {
      "text/plain": [
       "'\\nImport note: The classroom currently uses sklearn version 0.19.\\nIf you need to use an imputer, it is available in sklearn.preprocessing.Imputer,\\ninstead of sklearn.impute as in newer versions of sklearn.\\n'"
      ]
     },
     "execution_count": 262,
     "metadata": {},
     "output_type": "execute_result"
    }
   ],
   "source": [
    "# import libraries here; add more as necessary\n",
    "import numpy as np\n",
    "import pandas as pd\n",
    "import matplotlib.pyplot as plt\n",
    "import seaborn as sns\n",
    "import re\n",
    "from sklearn.preprocessing import Imputer\n",
    "from sklearn.preprocessing import StandardScaler\n",
    "from sklearn.decomposition import PCA\n",
    "import warnings\n",
    "warnings.filterwarnings('ignore')\n",
    "\n",
    "# magic word for producing visualizations in notebook\n",
    "%matplotlib inline\n",
    "\n",
    "'''\n",
    "Import note: The classroom currently uses sklearn version 0.19.\n",
    "If you need to use an imputer, it is available in sklearn.preprocessing.Imputer,\n",
    "instead of sklearn.impute as in newer versions of sklearn.\n",
    "'''"
   ]
  },
  {
   "cell_type": "markdown",
   "metadata": {},
   "source": [
    "### Step 0: Load the Data\n",
    "\n",
    "There are four files associated with this project (not including this one):\n",
    "\n",
    "- `Udacity_AZDIAS_Subset.csv`: Demographics data for the general population of Germany; 891211 persons (rows) x 85 features (columns).\n",
    "- `Udacity_CUSTOMERS_Subset.csv`: Demographics data for customers of a mail-order company; 191652 persons (rows) x 85 features (columns).\n",
    "- `Data_Dictionary.md`: Detailed information file about the features in the provided datasets.\n",
    "- `AZDIAS_Feature_Summary.csv`: Summary of feature attributes for demographics data; 85 features (rows) x 4 columns\n",
    "\n",
    "Each row of the demographics files represents a single person, but also includes information outside of individuals, including information about their household, building, and neighborhood. You will use this information to cluster the general population into groups with similar demographic properties. Then, you will see how the people in the customers dataset fit into those created clusters. The hope here is that certain clusters are over-represented in the customers data, as compared to the general population; those over-represented clusters will be assumed to be part of the core userbase. This information can then be used for further applications, such as targeting for a marketing campaign.\n",
    "\n",
    "To start off with, load in the demographics data for the general population into a pandas DataFrame, and do the same for the feature attributes summary. Note for all of the `.csv` data files in this project: they're semicolon (`;`) delimited, so you'll need an additional argument in your [`read_csv()`](https://pandas.pydata.org/pandas-docs/stable/generated/pandas.read_csv.html) call to read in the data properly. Also, considering the size of the main dataset, it may take some time for it to load completely.\n",
    "\n",
    "Once the dataset is loaded, it's recommended that you take a little bit of time just browsing the general structure of the dataset and feature summary file. You'll be getting deep into the innards of the cleaning in the first major step of the project, so gaining some general familiarity can help you get your bearings."
   ]
  },
  {
   "cell_type": "code",
   "execution_count": 263,
   "metadata": {},
   "outputs": [],
   "source": [
    "# Load in the general demographics data.\n",
    "azdias = pd.read_csv('Udacity_AZDIAS_Subset.csv', sep=';')\n",
    "\n",
    "# Load in the feature summary file.\n",
    "feat_info = pd.read_csv('AZDIAS_Feature_Summary.csv', sep=';')"
   ]
  },
  {
   "cell_type": "code",
   "execution_count": 264,
   "metadata": {},
   "outputs": [
    {
     "data": {
      "text/plain": [
       "((891221, 85), (85, 4))"
      ]
     },
     "execution_count": 264,
     "metadata": {},
     "output_type": "execute_result"
    }
   ],
   "source": [
    "#shape of dataframes\n",
    "azdias.shape, feat_info.shape"
   ]
  },
  {
   "cell_type": "code",
   "execution_count": 265,
   "metadata": {},
   "outputs": [
    {
     "data": {
      "text/html": [
       "<div>\n",
       "<style scoped>\n",
       "    .dataframe tbody tr th:only-of-type {\n",
       "        vertical-align: middle;\n",
       "    }\n",
       "\n",
       "    .dataframe tbody tr th {\n",
       "        vertical-align: top;\n",
       "    }\n",
       "\n",
       "    .dataframe thead th {\n",
       "        text-align: right;\n",
       "    }\n",
       "</style>\n",
       "<table border=\"1\" class=\"dataframe\">\n",
       "  <thead>\n",
       "    <tr style=\"text-align: right;\">\n",
       "      <th></th>\n",
       "      <th>AGER_TYP</th>\n",
       "      <th>ALTERSKATEGORIE_GROB</th>\n",
       "      <th>ANREDE_KZ</th>\n",
       "      <th>CJT_GESAMTTYP</th>\n",
       "      <th>FINANZ_MINIMALIST</th>\n",
       "      <th>FINANZ_SPARER</th>\n",
       "      <th>FINANZ_VORSORGER</th>\n",
       "      <th>FINANZ_ANLEGER</th>\n",
       "      <th>FINANZ_UNAUFFAELLIGER</th>\n",
       "      <th>FINANZ_HAUSBAUER</th>\n",
       "      <th>...</th>\n",
       "      <th>PLZ8_ANTG1</th>\n",
       "      <th>PLZ8_ANTG2</th>\n",
       "      <th>PLZ8_ANTG3</th>\n",
       "      <th>PLZ8_ANTG4</th>\n",
       "      <th>PLZ8_BAUMAX</th>\n",
       "      <th>PLZ8_HHZ</th>\n",
       "      <th>PLZ8_GBZ</th>\n",
       "      <th>ARBEIT</th>\n",
       "      <th>ORTSGR_KLS9</th>\n",
       "      <th>RELAT_AB</th>\n",
       "    </tr>\n",
       "  </thead>\n",
       "  <tbody>\n",
       "    <tr>\n",
       "      <th>0</th>\n",
       "      <td>-1</td>\n",
       "      <td>2</td>\n",
       "      <td>1</td>\n",
       "      <td>2.0</td>\n",
       "      <td>3</td>\n",
       "      <td>4</td>\n",
       "      <td>3</td>\n",
       "      <td>5</td>\n",
       "      <td>5</td>\n",
       "      <td>3</td>\n",
       "      <td>...</td>\n",
       "      <td>NaN</td>\n",
       "      <td>NaN</td>\n",
       "      <td>NaN</td>\n",
       "      <td>NaN</td>\n",
       "      <td>NaN</td>\n",
       "      <td>NaN</td>\n",
       "      <td>NaN</td>\n",
       "      <td>NaN</td>\n",
       "      <td>NaN</td>\n",
       "      <td>NaN</td>\n",
       "    </tr>\n",
       "    <tr>\n",
       "      <th>1</th>\n",
       "      <td>-1</td>\n",
       "      <td>1</td>\n",
       "      <td>2</td>\n",
       "      <td>5.0</td>\n",
       "      <td>1</td>\n",
       "      <td>5</td>\n",
       "      <td>2</td>\n",
       "      <td>5</td>\n",
       "      <td>4</td>\n",
       "      <td>5</td>\n",
       "      <td>...</td>\n",
       "      <td>2.0</td>\n",
       "      <td>3.0</td>\n",
       "      <td>2.0</td>\n",
       "      <td>1.0</td>\n",
       "      <td>1.0</td>\n",
       "      <td>5.0</td>\n",
       "      <td>4.0</td>\n",
       "      <td>3.0</td>\n",
       "      <td>5.0</td>\n",
       "      <td>4.0</td>\n",
       "    </tr>\n",
       "    <tr>\n",
       "      <th>2</th>\n",
       "      <td>-1</td>\n",
       "      <td>3</td>\n",
       "      <td>2</td>\n",
       "      <td>3.0</td>\n",
       "      <td>1</td>\n",
       "      <td>4</td>\n",
       "      <td>1</td>\n",
       "      <td>2</td>\n",
       "      <td>3</td>\n",
       "      <td>5</td>\n",
       "      <td>...</td>\n",
       "      <td>3.0</td>\n",
       "      <td>3.0</td>\n",
       "      <td>1.0</td>\n",
       "      <td>0.0</td>\n",
       "      <td>1.0</td>\n",
       "      <td>4.0</td>\n",
       "      <td>4.0</td>\n",
       "      <td>3.0</td>\n",
       "      <td>5.0</td>\n",
       "      <td>2.0</td>\n",
       "    </tr>\n",
       "  </tbody>\n",
       "</table>\n",
       "<p>3 rows × 85 columns</p>\n",
       "</div>"
      ],
      "text/plain": [
       "   AGER_TYP  ALTERSKATEGORIE_GROB  ANREDE_KZ  CJT_GESAMTTYP  \\\n",
       "0        -1                     2          1            2.0   \n",
       "1        -1                     1          2            5.0   \n",
       "2        -1                     3          2            3.0   \n",
       "\n",
       "   FINANZ_MINIMALIST  FINANZ_SPARER  FINANZ_VORSORGER  FINANZ_ANLEGER  \\\n",
       "0                  3              4                 3               5   \n",
       "1                  1              5                 2               5   \n",
       "2                  1              4                 1               2   \n",
       "\n",
       "   FINANZ_UNAUFFAELLIGER  FINANZ_HAUSBAUER    ...     PLZ8_ANTG1  PLZ8_ANTG2  \\\n",
       "0                      5                 3    ...            NaN         NaN   \n",
       "1                      4                 5    ...            2.0         3.0   \n",
       "2                      3                 5    ...            3.0         3.0   \n",
       "\n",
       "   PLZ8_ANTG3  PLZ8_ANTG4  PLZ8_BAUMAX  PLZ8_HHZ  PLZ8_GBZ  ARBEIT  \\\n",
       "0         NaN         NaN          NaN       NaN       NaN     NaN   \n",
       "1         2.0         1.0          1.0       5.0       4.0     3.0   \n",
       "2         1.0         0.0          1.0       4.0       4.0     3.0   \n",
       "\n",
       "   ORTSGR_KLS9  RELAT_AB  \n",
       "0          NaN       NaN  \n",
       "1          5.0       4.0  \n",
       "2          5.0       2.0  \n",
       "\n",
       "[3 rows x 85 columns]"
      ]
     },
     "execution_count": 265,
     "metadata": {},
     "output_type": "execute_result"
    }
   ],
   "source": [
    "#first few rows of demographics datarame\n",
    "azdias.head(3)"
   ]
  },
  {
   "cell_type": "code",
   "execution_count": 266,
   "metadata": {},
   "outputs": [
    {
     "data": {
      "text/html": [
       "<div>\n",
       "<style scoped>\n",
       "    .dataframe tbody tr th:only-of-type {\n",
       "        vertical-align: middle;\n",
       "    }\n",
       "\n",
       "    .dataframe tbody tr th {\n",
       "        vertical-align: top;\n",
       "    }\n",
       "\n",
       "    .dataframe thead th {\n",
       "        text-align: right;\n",
       "    }\n",
       "</style>\n",
       "<table border=\"1\" class=\"dataframe\">\n",
       "  <thead>\n",
       "    <tr style=\"text-align: right;\">\n",
       "      <th></th>\n",
       "      <th>attribute</th>\n",
       "      <th>information_level</th>\n",
       "      <th>type</th>\n",
       "      <th>missing_or_unknown</th>\n",
       "    </tr>\n",
       "  </thead>\n",
       "  <tbody>\n",
       "    <tr>\n",
       "      <th>0</th>\n",
       "      <td>AGER_TYP</td>\n",
       "      <td>person</td>\n",
       "      <td>categorical</td>\n",
       "      <td>[-1,0]</td>\n",
       "    </tr>\n",
       "    <tr>\n",
       "      <th>1</th>\n",
       "      <td>ALTERSKATEGORIE_GROB</td>\n",
       "      <td>person</td>\n",
       "      <td>ordinal</td>\n",
       "      <td>[-1,0,9]</td>\n",
       "    </tr>\n",
       "    <tr>\n",
       "      <th>2</th>\n",
       "      <td>ANREDE_KZ</td>\n",
       "      <td>person</td>\n",
       "      <td>categorical</td>\n",
       "      <td>[-1,0]</td>\n",
       "    </tr>\n",
       "    <tr>\n",
       "      <th>3</th>\n",
       "      <td>CJT_GESAMTTYP</td>\n",
       "      <td>person</td>\n",
       "      <td>categorical</td>\n",
       "      <td>[0]</td>\n",
       "    </tr>\n",
       "    <tr>\n",
       "      <th>4</th>\n",
       "      <td>FINANZ_MINIMALIST</td>\n",
       "      <td>person</td>\n",
       "      <td>ordinal</td>\n",
       "      <td>[-1]</td>\n",
       "    </tr>\n",
       "  </tbody>\n",
       "</table>\n",
       "</div>"
      ],
      "text/plain": [
       "              attribute information_level         type missing_or_unknown\n",
       "0              AGER_TYP            person  categorical             [-1,0]\n",
       "1  ALTERSKATEGORIE_GROB            person      ordinal           [-1,0,9]\n",
       "2             ANREDE_KZ            person  categorical             [-1,0]\n",
       "3         CJT_GESAMTTYP            person  categorical                [0]\n",
       "4     FINANZ_MINIMALIST            person      ordinal               [-1]"
      ]
     },
     "execution_count": 266,
     "metadata": {},
     "output_type": "execute_result"
    }
   ],
   "source": [
    "#first few rows of feature summary database\n",
    "feat_info.head()"
   ]
  },
  {
   "cell_type": "code",
   "execution_count": 267,
   "metadata": {},
   "outputs": [],
   "source": [
    "#Before we start preprocessing, it would be a good idea to make a copy of the demographic dataframe and use that copy for the\n",
    "#future operations. So that, if we ever need to look at original dataset, we will be able to do it easily\n",
    "\n",
    "df_demo= azdias.copy()  #here 'demo' represents demographic data"
   ]
  },
  {
   "cell_type": "markdown",
   "metadata": {},
   "source": [
    "---"
   ]
  },
  {
   "cell_type": "markdown",
   "metadata": {},
   "source": [
    "\n",
    "## Step 1: Preprocessing\n",
    "\n",
    "### Step 1.1: Assess Missing Data\n",
    "\n",
    "The feature summary file contains a summary of properties for each demographics data column. You will use this file to help you make cleaning decisions during this stage of the project. First of all, you should assess the demographics data in terms of missing data. Pay attention to the following points as you perform your analysis, and take notes on what you observe. Make sure that you fill in the **Discussion** cell with your findings and decisions at the end of each step that has one!\n",
    "\n",
    "#### Step 1.1.1: Convert Missing Value Codes to NaNs\n",
    "The fourth column of the feature attributes summary (loaded in above as `feat_info`) documents the codes from the data dictionary that indicate missing or unknown data. While the file encodes this as a list (e.g. `[-1,0]`), this will get read in as a string object. You'll need to do a little bit of parsing to make use of it to identify and clean the data. Convert data that matches a 'missing' or 'unknown' value code into a numpy NaN value. You might want to see how much data takes on a 'missing' or 'unknown' code, and how much data is naturally missing, as a point of interest."
   ]
  },
  {
   "cell_type": "markdown",
   "metadata": {},
   "source": [
    "#### 1) Assessing demographic dataframe for the natuarly missing values"
   ]
  },
  {
   "cell_type": "code",
   "execution_count": 268,
   "metadata": {},
   "outputs": [
    {
     "data": {
      "text/plain": [
       "628074"
      ]
     },
     "execution_count": 268,
     "metadata": {},
     "output_type": "execute_result"
    }
   ],
   "source": [
    "# number of rows where at least one null value is present\n",
    "df_demo.isnull().any(axis=1).sum()\n"
   ]
  },
  {
   "cell_type": "code",
   "execution_count": 269,
   "metadata": {},
   "outputs": [
    {
     "name": "stdout",
     "output_type": "stream",
     "text": [
      "AGER_TYP 0\n",
      "ALTERSKATEGORIE_GROB 0\n",
      "ANREDE_KZ 0\n",
      "CJT_GESAMTTYP 4854\n",
      "FINANZ_MINIMALIST 0\n",
      "FINANZ_SPARER 0\n",
      "FINANZ_VORSORGER 0\n",
      "FINANZ_ANLEGER 0\n",
      "FINANZ_UNAUFFAELLIGER 0\n",
      "FINANZ_HAUSBAUER 0\n",
      "FINANZTYP 0\n",
      "GEBURTSJAHR 0\n",
      "GFK_URLAUBERTYP 4854\n",
      "GREEN_AVANTGARDE 0\n",
      "HEALTH_TYP 0\n",
      "LP_LEBENSPHASE_FEIN 4854\n",
      "LP_LEBENSPHASE_GROB 4854\n",
      "LP_FAMILIE_FEIN 4854\n",
      "LP_FAMILIE_GROB 4854\n",
      "LP_STATUS_FEIN 4854\n",
      "LP_STATUS_GROB 4854\n",
      "NATIONALITAET_KZ 0\n",
      "PRAEGENDE_JUGENDJAHRE 0\n",
      "RETOURTYP_BK_S 4854\n",
      "SEMIO_SOZ 0\n",
      "SEMIO_FAM 0\n",
      "SEMIO_REL 0\n",
      "SEMIO_MAT 0\n",
      "SEMIO_VERT 0\n",
      "SEMIO_LUST 0\n",
      "SEMIO_ERL 0\n",
      "SEMIO_KULT 0\n",
      "SEMIO_RAT 0\n",
      "SEMIO_KRIT 0\n",
      "SEMIO_DOM 0\n",
      "SEMIO_KAEM 0\n",
      "SEMIO_PFLICHT 0\n",
      "SEMIO_TRADV 0\n",
      "SHOPPER_TYP 0\n",
      "SOHO_KZ 73499\n",
      "TITEL_KZ 73499\n",
      "VERS_TYP 0\n",
      "ZABEOTYP 0\n",
      "ALTER_HH 73499\n",
      "ANZ_PERSONEN 73499\n",
      "ANZ_TITEL 73499\n",
      "HH_EINKOMMEN_SCORE 18348\n",
      "KK_KUNDENTYP 584612\n",
      "W_KEIT_KIND_HH 107602\n",
      "WOHNDAUER_2008 73499\n",
      "ANZ_HAUSHALTE_AKTIV 93148\n",
      "ANZ_HH_TITEL 97008\n",
      "GEBAEUDETYP 93148\n",
      "KONSUMNAEHE 73969\n",
      "MIN_GEBAEUDEJAHR 93148\n",
      "OST_WEST_KZ 93148\n",
      "WOHNLAGE 93148\n",
      "CAMEO_DEUG_2015 98979\n",
      "CAMEO_DEU_2015 98979\n",
      "CAMEO_INTL_2015 98979\n",
      "KBA05_ANTG1 133324\n",
      "KBA05_ANTG2 133324\n",
      "KBA05_ANTG3 133324\n",
      "KBA05_ANTG4 133324\n",
      "KBA05_BAUMAX 133324\n",
      "KBA05_GBZ 133324\n",
      "BALLRAUM 93740\n",
      "EWDICHTE 93740\n",
      "INNENSTADT 93740\n",
      "GEBAEUDETYP_RASTER 93155\n",
      "KKK 121196\n",
      "MOBI_REGIO 133324\n",
      "ONLINE_AFFINITAET 4854\n",
      "REGIOTYP 121196\n",
      "KBA13_ANZAHL_PKW 105800\n",
      "PLZ8_ANTG1 116515\n",
      "PLZ8_ANTG2 116515\n",
      "PLZ8_ANTG3 116515\n",
      "PLZ8_ANTG4 116515\n",
      "PLZ8_BAUMAX 116515\n",
      "PLZ8_HHZ 116515\n",
      "PLZ8_GBZ 116515\n",
      "ARBEIT 97216\n",
      "ORTSGR_KLS9 97216\n",
      "RELAT_AB 97216\n"
     ]
    }
   ],
   "source": [
    "#columns and their corresponding count of naturally missing values\n",
    "for col in df_demo.columns:\n",
    "    print(col, df_demo[col].isnull().sum())"
   ]
  },
  {
   "cell_type": "markdown",
   "metadata": {},
   "source": [
    "#### 2) finding columns and corresponding count where codes for missing and unknown values are present and later replacing these codes with null value\n"
   ]
  },
  {
   "cell_type": "code",
   "execution_count": 270,
   "metadata": {},
   "outputs": [
    {
     "name": "stdout",
     "output_type": "stream",
     "text": [
      "AGER_TYP 685843\n",
      "ALTERSKATEGORIE_GROB 2881\n",
      "ANREDE_KZ 0\n",
      "CJT_GESAMTTYP 0\n",
      "FINANZ_MINIMALIST 0\n",
      "FINANZ_SPARER 0\n",
      "FINANZ_VORSORGER 0\n",
      "FINANZ_ANLEGER 0\n",
      "FINANZ_UNAUFFAELLIGER 0\n",
      "FINANZ_HAUSBAUER 0\n",
      "FINANZTYP 0\n",
      "GEBURTSJAHR 392318\n",
      "GFK_URLAUBERTYP 0\n",
      "GREEN_AVANTGARDE 0\n",
      "HEALTH_TYP 111196\n",
      "LP_LEBENSPHASE_FEIN 92778\n",
      "LP_LEBENSPHASE_GROB 89718\n",
      "LP_FAMILIE_FEIN 72938\n",
      "LP_FAMILIE_GROB 72938\n",
      "LP_STATUS_FEIN 0\n",
      "LP_STATUS_GROB 0\n",
      "NATIONALITAET_KZ 108315\n",
      "PRAEGENDE_JUGENDJAHRE 108164\n",
      "RETOURTYP_BK_S 0\n",
      "SEMIO_SOZ 0\n",
      "SEMIO_FAM 0\n",
      "SEMIO_REL 0\n",
      "SEMIO_MAT 0\n",
      "SEMIO_VERT 0\n",
      "SEMIO_LUST 0\n",
      "SEMIO_ERL 0\n",
      "SEMIO_KULT 0\n",
      "SEMIO_RAT 0\n",
      "SEMIO_KRIT 0\n",
      "SEMIO_DOM 0\n",
      "SEMIO_KAEM 0\n",
      "SEMIO_PFLICHT 0\n",
      "SEMIO_TRADV 0\n",
      "SHOPPER_TYP 111196\n",
      "SOHO_KZ 0\n",
      "TITEL_KZ 815562\n",
      "VERS_TYP 111196\n",
      "ZABEOTYP 0\n",
      "ALTER_HH 236768\n",
      "ANZ_PERSONEN 0\n",
      "ANZ_TITEL 0\n",
      "HH_EINKOMMEN_SCORE 0\n",
      "KK_KUNDENTYP 0\n",
      "W_KEIT_KIND_HH 40386\n",
      "WOHNDAUER_2008 0\n",
      "ANZ_HAUSHALTE_AKTIV 6463\n",
      "ANZ_HH_TITEL 0\n",
      "GEBAEUDETYP 0\n",
      "KONSUMNAEHE 0\n",
      "MIN_GEBAEUDEJAHR 0\n",
      "OST_WEST_KZ 0\n",
      "WOHNLAGE 0\n",
      "CAMEO_DEUG_2015 373\n",
      "CAMEO_DEU_2015 373\n",
      "CAMEO_INTL_2015 373\n",
      "KBA05_ANTG1 0\n",
      "KBA05_ANTG2 0\n",
      "KBA05_ANTG3 0\n",
      "KBA05_ANTG4 0\n",
      "KBA05_BAUMAX 343200\n",
      "KBA05_GBZ 0\n",
      "BALLRAUM 0\n",
      "EWDICHTE 0\n",
      "INNENSTADT 0\n",
      "GEBAEUDETYP_RASTER 0\n",
      "KKK 36868\n",
      "MOBI_REGIO 0\n",
      "ONLINE_AFFINITAET 0\n",
      "REGIOTYP 36868\n",
      "KBA13_ANZAHL_PKW 0\n",
      "PLZ8_ANTG1 0\n",
      "PLZ8_ANTG2 0\n",
      "PLZ8_ANTG3 0\n",
      "PLZ8_ANTG4 0\n",
      "PLZ8_BAUMAX 0\n",
      "PLZ8_HHZ 0\n",
      "PLZ8_GBZ 0\n",
      "ARBEIT 159\n",
      "ORTSGR_KLS9 58\n",
      "RELAT_AB 159\n"
     ]
    }
   ],
   "source": [
    "\n",
    "columns=df_demo.columns\n",
    "dict_codes={}  #to save column name and its coressponding codes for missing and unknown values- for future use\n",
    "\n",
    "for index, col in enumerate(columns):\n",
    "    \n",
    "    #finding the missing or unknown codes for each column and saving them in list 'codes'\n",
    "    result_in_str=feat_info.iloc[index,3]\n",
    "    \n",
    "    codes=[]\n",
    "    for value in result_in_str.strip('[]').split(','):\n",
    "        try:\n",
    "            codes.append(int(value))\n",
    "        except ValueError:\n",
    "            codes.append(value)\n",
    "            \n",
    "    dict_codes[col]=codes\n",
    "            \n",
    "    #column and their respective count for cells where missing or unknown code is present\n",
    "    col_unknown_missing_val_count= df_demo[df_demo[col].isin(codes)].shape[0]\n",
    "    print(col, col_unknown_missing_val_count)\n",
    "            \n",
    "    \n",
    "    "
   ]
  },
  {
   "cell_type": "code",
   "execution_count": 271,
   "metadata": {},
   "outputs": [],
   "source": [
    "#replacing all missing and unknown values to NaN\n",
    "for col in columns:\n",
    "    df_demo[col]=df_demo[col].apply(lambda x: np.NaN if x in dict_codes[col] else x)\n",
    "    "
   ]
  },
  {
   "cell_type": "code",
   "execution_count": 272,
   "metadata": {},
   "outputs": [
    {
     "data": {
      "text/html": [
       "<div>\n",
       "<style scoped>\n",
       "    .dataframe tbody tr th:only-of-type {\n",
       "        vertical-align: middle;\n",
       "    }\n",
       "\n",
       "    .dataframe tbody tr th {\n",
       "        vertical-align: top;\n",
       "    }\n",
       "\n",
       "    .dataframe thead th {\n",
       "        text-align: right;\n",
       "    }\n",
       "</style>\n",
       "<table border=\"1\" class=\"dataframe\">\n",
       "  <thead>\n",
       "    <tr style=\"text-align: right;\">\n",
       "      <th></th>\n",
       "      <th>AGER_TYP</th>\n",
       "      <th>ALTERSKATEGORIE_GROB</th>\n",
       "      <th>ANREDE_KZ</th>\n",
       "      <th>CJT_GESAMTTYP</th>\n",
       "      <th>FINANZ_MINIMALIST</th>\n",
       "      <th>FINANZ_SPARER</th>\n",
       "      <th>FINANZ_VORSORGER</th>\n",
       "      <th>FINANZ_ANLEGER</th>\n",
       "      <th>FINANZ_UNAUFFAELLIGER</th>\n",
       "      <th>FINANZ_HAUSBAUER</th>\n",
       "      <th>...</th>\n",
       "      <th>PLZ8_ANTG1</th>\n",
       "      <th>PLZ8_ANTG2</th>\n",
       "      <th>PLZ8_ANTG3</th>\n",
       "      <th>PLZ8_ANTG4</th>\n",
       "      <th>PLZ8_BAUMAX</th>\n",
       "      <th>PLZ8_HHZ</th>\n",
       "      <th>PLZ8_GBZ</th>\n",
       "      <th>ARBEIT</th>\n",
       "      <th>ORTSGR_KLS9</th>\n",
       "      <th>RELAT_AB</th>\n",
       "    </tr>\n",
       "  </thead>\n",
       "  <tbody>\n",
       "    <tr>\n",
       "      <th>0</th>\n",
       "      <td>NaN</td>\n",
       "      <td>2.0</td>\n",
       "      <td>1</td>\n",
       "      <td>2.0</td>\n",
       "      <td>3</td>\n",
       "      <td>4</td>\n",
       "      <td>3</td>\n",
       "      <td>5</td>\n",
       "      <td>5</td>\n",
       "      <td>3</td>\n",
       "      <td>...</td>\n",
       "      <td>NaN</td>\n",
       "      <td>NaN</td>\n",
       "      <td>NaN</td>\n",
       "      <td>NaN</td>\n",
       "      <td>NaN</td>\n",
       "      <td>NaN</td>\n",
       "      <td>NaN</td>\n",
       "      <td>NaN</td>\n",
       "      <td>NaN</td>\n",
       "      <td>NaN</td>\n",
       "    </tr>\n",
       "    <tr>\n",
       "      <th>1</th>\n",
       "      <td>NaN</td>\n",
       "      <td>1.0</td>\n",
       "      <td>2</td>\n",
       "      <td>5.0</td>\n",
       "      <td>1</td>\n",
       "      <td>5</td>\n",
       "      <td>2</td>\n",
       "      <td>5</td>\n",
       "      <td>4</td>\n",
       "      <td>5</td>\n",
       "      <td>...</td>\n",
       "      <td>2.0</td>\n",
       "      <td>3.0</td>\n",
       "      <td>2.0</td>\n",
       "      <td>1.0</td>\n",
       "      <td>1.0</td>\n",
       "      <td>5.0</td>\n",
       "      <td>4.0</td>\n",
       "      <td>3.0</td>\n",
       "      <td>5.0</td>\n",
       "      <td>4.0</td>\n",
       "    </tr>\n",
       "    <tr>\n",
       "      <th>2</th>\n",
       "      <td>NaN</td>\n",
       "      <td>3.0</td>\n",
       "      <td>2</td>\n",
       "      <td>3.0</td>\n",
       "      <td>1</td>\n",
       "      <td>4</td>\n",
       "      <td>1</td>\n",
       "      <td>2</td>\n",
       "      <td>3</td>\n",
       "      <td>5</td>\n",
       "      <td>...</td>\n",
       "      <td>3.0</td>\n",
       "      <td>3.0</td>\n",
       "      <td>1.0</td>\n",
       "      <td>0.0</td>\n",
       "      <td>1.0</td>\n",
       "      <td>4.0</td>\n",
       "      <td>4.0</td>\n",
       "      <td>3.0</td>\n",
       "      <td>5.0</td>\n",
       "      <td>2.0</td>\n",
       "    </tr>\n",
       "    <tr>\n",
       "      <th>3</th>\n",
       "      <td>2.0</td>\n",
       "      <td>4.0</td>\n",
       "      <td>2</td>\n",
       "      <td>2.0</td>\n",
       "      <td>4</td>\n",
       "      <td>2</td>\n",
       "      <td>5</td>\n",
       "      <td>2</td>\n",
       "      <td>1</td>\n",
       "      <td>2</td>\n",
       "      <td>...</td>\n",
       "      <td>2.0</td>\n",
       "      <td>2.0</td>\n",
       "      <td>2.0</td>\n",
       "      <td>0.0</td>\n",
       "      <td>1.0</td>\n",
       "      <td>3.0</td>\n",
       "      <td>4.0</td>\n",
       "      <td>2.0</td>\n",
       "      <td>3.0</td>\n",
       "      <td>3.0</td>\n",
       "    </tr>\n",
       "    <tr>\n",
       "      <th>4</th>\n",
       "      <td>NaN</td>\n",
       "      <td>3.0</td>\n",
       "      <td>1</td>\n",
       "      <td>5.0</td>\n",
       "      <td>4</td>\n",
       "      <td>3</td>\n",
       "      <td>4</td>\n",
       "      <td>1</td>\n",
       "      <td>3</td>\n",
       "      <td>2</td>\n",
       "      <td>...</td>\n",
       "      <td>2.0</td>\n",
       "      <td>4.0</td>\n",
       "      <td>2.0</td>\n",
       "      <td>1.0</td>\n",
       "      <td>2.0</td>\n",
       "      <td>3.0</td>\n",
       "      <td>3.0</td>\n",
       "      <td>4.0</td>\n",
       "      <td>6.0</td>\n",
       "      <td>5.0</td>\n",
       "    </tr>\n",
       "  </tbody>\n",
       "</table>\n",
       "<p>5 rows × 85 columns</p>\n",
       "</div>"
      ],
      "text/plain": [
       "   AGER_TYP  ALTERSKATEGORIE_GROB  ANREDE_KZ  CJT_GESAMTTYP  \\\n",
       "0       NaN                   2.0          1            2.0   \n",
       "1       NaN                   1.0          2            5.0   \n",
       "2       NaN                   3.0          2            3.0   \n",
       "3       2.0                   4.0          2            2.0   \n",
       "4       NaN                   3.0          1            5.0   \n",
       "\n",
       "   FINANZ_MINIMALIST  FINANZ_SPARER  FINANZ_VORSORGER  FINANZ_ANLEGER  \\\n",
       "0                  3              4                 3               5   \n",
       "1                  1              5                 2               5   \n",
       "2                  1              4                 1               2   \n",
       "3                  4              2                 5               2   \n",
       "4                  4              3                 4               1   \n",
       "\n",
       "   FINANZ_UNAUFFAELLIGER  FINANZ_HAUSBAUER    ...     PLZ8_ANTG1  PLZ8_ANTG2  \\\n",
       "0                      5                 3    ...            NaN         NaN   \n",
       "1                      4                 5    ...            2.0         3.0   \n",
       "2                      3                 5    ...            3.0         3.0   \n",
       "3                      1                 2    ...            2.0         2.0   \n",
       "4                      3                 2    ...            2.0         4.0   \n",
       "\n",
       "   PLZ8_ANTG3  PLZ8_ANTG4  PLZ8_BAUMAX  PLZ8_HHZ  PLZ8_GBZ  ARBEIT  \\\n",
       "0         NaN         NaN          NaN       NaN       NaN     NaN   \n",
       "1         2.0         1.0          1.0       5.0       4.0     3.0   \n",
       "2         1.0         0.0          1.0       4.0       4.0     3.0   \n",
       "3         2.0         0.0          1.0       3.0       4.0     2.0   \n",
       "4         2.0         1.0          2.0       3.0       3.0     4.0   \n",
       "\n",
       "   ORTSGR_KLS9  RELAT_AB  \n",
       "0          NaN       NaN  \n",
       "1          5.0       4.0  \n",
       "2          5.0       2.0  \n",
       "3          3.0       3.0  \n",
       "4          6.0       5.0  \n",
       "\n",
       "[5 rows x 85 columns]"
      ]
     },
     "execution_count": 272,
     "metadata": {},
     "output_type": "execute_result"
    }
   ],
   "source": [
    "#let's see how the dataframe looks like now\n",
    "df_demo.head(5)"
   ]
  },
  {
   "cell_type": "markdown",
   "metadata": {},
   "source": [
    "---"
   ]
  },
  {
   "cell_type": "markdown",
   "metadata": {},
   "source": [
    "#### Step 1.1.2: Assess Missing Data in Each Column\n",
    "\n",
    "How much missing data is present in each column? There are a few columns that are outliers in terms of the proportion of values that are missing. You will want to use matplotlib's [`hist()`](https://matplotlib.org/api/_as_gen/matplotlib.pyplot.hist.html) function to visualize the distribution of missing value counts to find these columns. Identify and document these columns. While some of these columns might have justifications for keeping or re-encoding the data, for this project you should just remove them from the dataframe. (Feel free to make remarks about these outlier columns in the discussion, however!)\n",
    "\n",
    "For the remaining features, are there any patterns in which columns have, or share, missing data?"
   ]
  },
  {
   "cell_type": "code",
   "execution_count": 273,
   "metadata": {},
   "outputs": [
    {
     "name": "stdout",
     "output_type": "stream",
     "text": [
      "AGER_TYP 685843\n",
      "ALTERSKATEGORIE_GROB 2881\n",
      "ANREDE_KZ 0\n",
      "CJT_GESAMTTYP 4854\n",
      "FINANZ_MINIMALIST 0\n",
      "FINANZ_SPARER 0\n",
      "FINANZ_VORSORGER 0\n",
      "FINANZ_ANLEGER 0\n",
      "FINANZ_UNAUFFAELLIGER 0\n",
      "FINANZ_HAUSBAUER 0\n",
      "FINANZTYP 0\n",
      "GEBURTSJAHR 392318\n",
      "GFK_URLAUBERTYP 4854\n",
      "GREEN_AVANTGARDE 0\n",
      "HEALTH_TYP 111196\n",
      "LP_LEBENSPHASE_FEIN 97632\n",
      "LP_LEBENSPHASE_GROB 94572\n",
      "LP_FAMILIE_FEIN 77792\n",
      "LP_FAMILIE_GROB 77792\n",
      "LP_STATUS_FEIN 4854\n",
      "LP_STATUS_GROB 4854\n",
      "NATIONALITAET_KZ 108315\n",
      "PRAEGENDE_JUGENDJAHRE 108164\n",
      "RETOURTYP_BK_S 4854\n",
      "SEMIO_SOZ 0\n",
      "SEMIO_FAM 0\n",
      "SEMIO_REL 0\n",
      "SEMIO_MAT 0\n",
      "SEMIO_VERT 0\n",
      "SEMIO_LUST 0\n",
      "SEMIO_ERL 0\n",
      "SEMIO_KULT 0\n",
      "SEMIO_RAT 0\n",
      "SEMIO_KRIT 0\n",
      "SEMIO_DOM 0\n",
      "SEMIO_KAEM 0\n",
      "SEMIO_PFLICHT 0\n",
      "SEMIO_TRADV 0\n",
      "SHOPPER_TYP 111196\n",
      "SOHO_KZ 73499\n",
      "TITEL_KZ 889061\n",
      "VERS_TYP 111196\n",
      "ZABEOTYP 0\n",
      "ALTER_HH 310267\n",
      "ANZ_PERSONEN 73499\n",
      "ANZ_TITEL 73499\n",
      "HH_EINKOMMEN_SCORE 18348\n",
      "KK_KUNDENTYP 584612\n",
      "W_KEIT_KIND_HH 147988\n",
      "WOHNDAUER_2008 73499\n",
      "ANZ_HAUSHALTE_AKTIV 99611\n",
      "ANZ_HH_TITEL 97008\n",
      "GEBAEUDETYP 93148\n",
      "KONSUMNAEHE 73969\n",
      "MIN_GEBAEUDEJAHR 93148\n",
      "OST_WEST_KZ 93148\n",
      "WOHNLAGE 93148\n",
      "CAMEO_DEUG_2015 99352\n",
      "CAMEO_DEU_2015 99352\n",
      "CAMEO_INTL_2015 99352\n",
      "KBA05_ANTG1 133324\n",
      "KBA05_ANTG2 133324\n",
      "KBA05_ANTG3 133324\n",
      "KBA05_ANTG4 133324\n",
      "KBA05_BAUMAX 476524\n",
      "KBA05_GBZ 133324\n",
      "BALLRAUM 93740\n",
      "EWDICHTE 93740\n",
      "INNENSTADT 93740\n",
      "GEBAEUDETYP_RASTER 93155\n",
      "KKK 158064\n",
      "MOBI_REGIO 133324\n",
      "ONLINE_AFFINITAET 4854\n",
      "REGIOTYP 158064\n",
      "KBA13_ANZAHL_PKW 105800\n",
      "PLZ8_ANTG1 116515\n",
      "PLZ8_ANTG2 116515\n",
      "PLZ8_ANTG3 116515\n",
      "PLZ8_ANTG4 116515\n",
      "PLZ8_BAUMAX 116515\n",
      "PLZ8_HHZ 116515\n",
      "PLZ8_GBZ 116515\n",
      "ARBEIT 97375\n",
      "ORTSGR_KLS9 97274\n",
      "RELAT_AB 97375\n"
     ]
    }
   ],
   "source": [
    "# missing data in each column of the demographic dataset.\n",
    "for col in columns:\n",
    "    print(col, df_demo[col].isnull().sum())\n"
   ]
  },
  {
   "cell_type": "code",
   "execution_count": 274,
   "metadata": {},
   "outputs": [],
   "source": [
    "#let's save the null values count for each column and it's ratio in two lists\n",
    "missing_value_count=[]\n",
    "missing_value_count_ratio=[]\n",
    "for col in columns:\n",
    "    missing_value_count.append(df_demo[col].isnull().sum())\n",
    "    missing_value_count_ratio.append(df_demo[col].isnull().sum()/df_demo.shape[0])"
   ]
  },
  {
   "cell_type": "code",
   "execution_count": 275,
   "metadata": {},
   "outputs": [],
   "source": [
    "#len(missing_value_count)"
   ]
  },
  {
   "cell_type": "code",
   "execution_count": 276,
   "metadata": {},
   "outputs": [
    {
     "data": {
      "image/png": "[encoded data removed]",
      "text/plain": [
       "<matplotlib.figure.Figure at 0x7fa884119f60>"
      ]
     },
     "metadata": {
      "needs_background": "light"
     },
     "output_type": "display_data"
    }
   ],
   "source": [
    "#plotting distribution of counts and ratios\n",
    "\n",
    "fig,axs=plt.subplots(nrows=1,ncols=2, figsize=(20,5))\n",
    "axs[0].hist(missing_value_count,color='y');\n",
    "axs[0].set_title('Missing Values Count Distribution')\n",
    "axs[1].hist(missing_value_count_ratio)\n",
    "axs[1].set_title('Missing Values Ratio Distribution');"
   ]
  },
  {
   "cell_type": "code",
   "execution_count": 278,
   "metadata": {},
   "outputs": [
    {
     "data": {
      "text/plain": [
       "Text(0,0.5,'Column names')"
      ]
     },
     "execution_count": 278,
     "metadata": {},
     "output_type": "execute_result"
    },
    {
     "data": {
      "image/png": "[encoded data removed]",
      "text/plain": [
       "<matplotlib.figure.Figure at 0x7fa883f875f8>"
      ]
     },
     "metadata": {
      "needs_background": "light"
     },
     "output_type": "display_data"
    }
   ],
   "source": [
    "#let's find the null value proportion for all the coulmns\n",
    "null_ratios=[]\n",
    "for col in columns:\n",
    "    null_ratios.append(df_demo[col].isnull().sum()/df_demo.shape[0])\n",
    "\n",
    "plt.figure(figsize=(20,30))\n",
    "plt.barh(columns, null_ratios)\n",
    "plt.xlabel('Proportion of null values')\n",
    "plt.ylabel('Column names')\n",
    "    "
   ]
  },
  {
   "cell_type": "code",
   "execution_count": 279,
   "metadata": {},
   "outputs": [],
   "source": [
    "# Remove the outlier columns from the dataset.\n",
    "\n",
    "#finding columns where the proportion of null values present is greater than 30%\n",
    "remove_col=[]\n",
    "for col in columns:\n",
    "    if (df_demo[col].isnull().sum()/df_demo.shape[0] > 0.3):\n",
    "        remove_col.append(col)"
   ]
  },
  {
   "cell_type": "code",
   "execution_count": 280,
   "metadata": {},
   "outputs": [
    {
     "name": "stdout",
     "output_type": "stream",
     "text": [
      "['AGER_TYP', 'GEBURTSJAHR', 'TITEL_KZ', 'ALTER_HH', 'KK_KUNDENTYP', 'KBA05_BAUMAX']\n"
     ]
    }
   ],
   "source": [
    "#let's see the columns which got appended in list remove_col variable\n",
    "print(remove_col)"
   ]
  },
  {
   "cell_type": "code",
   "execution_count": 281,
   "metadata": {},
   "outputs": [],
   "source": [
    "#droping these columns\n",
    "df_demo.drop(columns=remove_col, inplace=True)"
   ]
  },
  {
   "cell_type": "code",
   "execution_count": 282,
   "metadata": {},
   "outputs": [
    {
     "data": {
      "text/plain": [
       "(891221, 79)"
      ]
     },
     "execution_count": 282,
     "metadata": {},
     "output_type": "execute_result"
    }
   ],
   "source": [
    "#shape of the dataframe after removing the columns\n",
    "df_demo.shape"
   ]
  },
  {
   "cell_type": "markdown",
   "metadata": {},
   "source": [
    "#### Discussion 1.1.2: Assess Missing Data in Each Column\n",
    "\n",
    "(Double click this cell and replace this text with your own text, reporting your observations regarding the amount of missing data in each column. Are there any patterns in missing values? Which columns were removed from the dataset?)\n",
    "\n",
    "**Answer**\n",
    "\n",
    "1. 79 columns in the demographic dataframe have null values proportion below 20%.\n",
    "2. 6 columns in the demographic dataframe have null values proportion more than 20%.\n",
    "    + Column 'AGER_TYP' has null value proportion of nearly 76%\n",
    "    + Column 'GEBURTSJAHR' has null value proportion of nearly 44%\n",
    "    + Column 'TITEL_KZ' has null value proportion of nearly 98%\n",
    "    + Column 'ALTER_HH' has null value proportion of nearly 35%\n",
    "    + Column 'KK_KUNDENTYP' has null value proportion of nearly 64%\n",
    "    + Column 'KBA05_BAUMAX' has null value proportion of nearly 53%\n",
    "\n",
    "These columns can be seen as the outliers in the histograms present above. I have removed these six columns from the dataframe.\n"
   ]
  },
  {
   "cell_type": "markdown",
   "metadata": {},
   "source": [
    "---"
   ]
  },
  {
   "cell_type": "markdown",
   "metadata": {},
   "source": [
    "#### Step 1.1.3: Assess Missing Data in Each Row\n",
    "\n",
    "Now, you'll perform a similar assessment for the rows of the dataset. How much data is missing in each row? As with the columns, you should see some groups of points that have a very different numbers of missing values. Divide the data into two subsets: one for data points that are above some threshold for missing values, and a second subset for points below that threshold.\n",
    "\n",
    "In order to know what to do with the outlier rows, we should see if the distribution of data values on columns that are not missing data (or are missing very little data) are similar or different between the two groups. Select at least five of these columns and compare the distribution of values.\n",
    "- You can use seaborn's [`countplot()`](https://seaborn.pydata.org/generated/seaborn.countplot.html) function to create a bar chart of code frequencies and matplotlib's [`subplot()`](https://matplotlib.org/api/_as_gen/matplotlib.pyplot.subplot.html) function to put bar charts for the two subplots side by side.\n",
    "- To reduce repeated code, you might want to write a function that can perform this comparison, taking as one of its arguments a column to be compared.\n",
    "\n",
    "Depending on what you observe in your comparison, this will have implications on how you approach your conclusions later in the analysis. If the distributions of non-missing features look similar between the data with many missing values and the data with few or no missing values, then we could argue that simply dropping those points from the analysis won't present a major issue. On the other hand, if the data with many missing values looks very different from the data with few or no missing values, then we should make a note on those data as special. We'll revisit these data later on. **Either way, you should continue your analysis for now using just the subset of the data with few or no missing values.**"
   ]
  },
  {
   "cell_type": "code",
   "execution_count": 136,
   "metadata": {
    "collapsed": true
   },
   "outputs": [],
   "source": [
    "# dividing the data into two subsets based on the number of missing values in each row.\n",
    "df_null_below_20=df_demo[df_demo.isnull().sum(axis=1)<=20]\n",
    "df_null_more_20=df_demo[df_demo.isnull().sum(axis=1)>20]"
   ]
  },
  {
   "cell_type": "code",
   "execution_count": 137,
   "metadata": {
    "collapsed": true
   },
   "outputs": [
    {
     "data": {
      "image/png": "[encoded data removed]",
      "text/plain": [
       "<matplotlib.figure.Figure at 0x7fa884071a58>"
      ]
     },
     "metadata": {},
     "output_type": "display_data"
    },
    {
     "data": {
      "image/png": "[encoded data removed]",
      "text/plain": [
       "<matplotlib.figure.Figure at 0x7fa8972c1668>"
      ]
     },
     "metadata": {},
     "output_type": "display_data"
    },
    {
     "data": {
      "image/png": "[encoded data removed]",
      "text/plain": [
       "<matplotlib.figure.Figure at 0x7fa88dfc3048>"
      ]
     },
     "metadata": {},
     "output_type": "display_data"
    },
    {
     "data": {
      "image/png": "[encoded data removed]",
      "text/plain": [
       "<matplotlib.figure.Figure at 0x7fa88df48a58>"
      ]
     },
     "metadata": {},
     "output_type": "display_data"
    },
    {
     "data": {
      "image/png": "[encoded data removed]",
      "text/plain": [
       "<matplotlib.figure.Figure at 0x7fa88def4160>"
      ]
     },
     "metadata": {},
     "output_type": "display_data"
    }
   ],
   "source": [
    "# Comparing the distribution of values for five columns where there are no or few missing values, between the two subsets.\n",
    "def create_bar_chart(col):\n",
    "    sns.set(style=\"whitegrid\")\n",
    "    fig, axes = plt.subplots(nrows=1, ncols=2, figsize=(30,6))\n",
    "    sns.countplot(df_null_below_20[col], ax=axes[0]) \n",
    "    axes[0].set_title('In the set where missing values <=20', fontsize=30)\n",
    "    axes[0].set_xlabel(col, fontsize=20)\n",
    "    sns.countplot(df_null_more_20[col], ax=axes[1])\n",
    "    axes[1].set_title('In the set where missing values >20', fontsize=30)   \n",
    "    axes[1].set_xlabel(col, fontsize=20)\n",
    "\n",
    "\n",
    "#taking five columns that don't have any missing values and checking their value distributions in both the sets\n",
    "for col in ['FINANZ_MINIMALIST', 'FINANZ_SPARER', 'FINANZ_VORSORGER', 'FINANZ_ANLEGER', 'FINANZ_UNAUFFAELLIGER']:\n",
    "    create_bar_chart(col)\n"
   ]
  },
  {
   "cell_type": "markdown",
   "metadata": {},
   "source": [
    "#### Discussion 1.1.3: Assess Missing Data in Each Row\n",
    "\n",
    "(Double-click this cell and replace this text with your own text, reporting your observations regarding missing data in rows. Are the data with lots of missing values are qualitatively different from data with few or no missing values?)"
   ]
  },
  {
   "cell_type": "markdown",
   "metadata": {},
   "source": [
    "**Answer**: It is clearly visible that non missing features, have different distributions between the data with many missing values and the data with few or no missing values. So I will not drop the rows where null values are more(>20)"
   ]
  },
  {
   "cell_type": "markdown",
   "metadata": {},
   "source": [
    "---"
   ]
  },
  {
   "cell_type": "markdown",
   "metadata": {},
   "source": [
    "### Step 1.2: Select and Re-Encode Features\n",
    "\n",
    "\n",
    "Checking for missing data isn't the only way in which you can prepare a dataset for analysis. Since the unsupervised learning techniques to be used will only work on data that is encoded numerically, you need to make a few encoding changes or additional assumptions to be able to make progress. In addition, while almost all of the values in the dataset are encoded using numbers, not all of them represent numeric values. Check the third column of the feature summary (`feat_info`) for a summary of types of measurement.\n",
    "- For numeric and interval data, these features can be kept without changes.\n",
    "- Most of the variables in the dataset are ordinal in nature. While ordinal values may technically be non-linear in spacing, make the simplifying assumption that the ordinal variables can be treated as being interval in nature (that is, kept without any changes).\n",
    "- Special handling may be necessary for the remaining two variable types: categorical, and 'mixed'.\n",
    "\n",
    "In the first two parts of this sub-step, you will perform an investigation of the categorical and mixed-type features and make a decision on each of them, whether you will keep, drop, or re-encode each. Then, in the last part, you will create a new data frame with only the selected and engineered columns.\n",
    "\n",
    "Data wrangling is often the trickiest part of the data analysis process, and there's a lot of it to be done here. But stick with it: once you're done with this step, you'll be ready to get to the machine learning parts of the project!"
   ]
  },
  {
   "cell_type": "code",
   "execution_count": 138,
   "metadata": {
    "collapsed": true
   },
   "outputs": [
    {
     "data": {
      "text/plain": [
       "21"
      ]
     },
     "execution_count": 138,
     "metadata": {},
     "output_type": "execute_result"
    }
   ],
   "source": [
    "# number of features for categorical data tyoe\n",
    "feat_info[feat_info['type']=='categorical'].shape[0]"
   ]
  },
  {
   "cell_type": "code",
   "execution_count": 139,
   "metadata": {
    "collapsed": true
   },
   "outputs": [
    {
     "data": {
      "text/plain": [
       "7"
      ]
     },
     "execution_count": 139,
     "metadata": {},
     "output_type": "execute_result"
    }
   ],
   "source": [
    "# number of features for mixed data tyoe\n",
    "feat_info[feat_info['type']=='mixed'].shape[0]"
   ]
  },
  {
   "cell_type": "markdown",
   "metadata": {},
   "source": [
    "#### Step 1.2.1: Re-Encode Categorical Features\n",
    "\n",
    "For categorical data, you would ordinarily need to encode the levels as dummy variables. Depending on the number of categories, perform one of the following:\n",
    "- For binary (two-level) categoricals that take numeric values, you can keep them without needing to do anything.\n",
    "- There is one binary variable that takes on non-numeric values. For this one, you need to re-encode the values as numbers or create a dummy variable.\n",
    "- For multi-level categoricals (three or more values), you can choose to encode the values using multiple dummy variables (e.g. via [OneHotEncoder](http://scikit-learn.org/stable/modules/generated/sklearn.preprocessing.OneHotEncoder.html)), or (to keep things straightforward) just drop them from the analysis. As always, document your choices in the Discussion section."
   ]
  },
  {
   "cell_type": "code",
   "execution_count": 140,
   "metadata": {},
   "outputs": [
    {
     "name": "stdout",
     "output_type": "stream",
     "text": [
      "AGER_TYP not available in the dataframe\n",
      "TITEL_KZ not available in the dataframe\n",
      "KK_KUNDENTYP not available in the dataframe\n"
     ]
    }
   ],
   "source": [
    "# Assessing categorical variables: which are binary, which are multi-level\n",
    "categorical_columns=feat_info[feat_info['type']=='categorical']['attribute']\n",
    "\n",
    "multi_level_vari=[]\n",
    "binary_level_vari=[]\n",
    "\n",
    "for col in categorical_columns:\n",
    "    \n",
    "    try:\n",
    "        if df_null_below_20[col].nunique()==2:\n",
    "            binary_level_vari.append(col)\n",
    "        else:\n",
    "            multi_level_vari.append(col)\n",
    "            \n",
    "    except: \n",
    "        print(col+ \" not available in the dataframe\")   #columns which have been removed earlier\n"
   ]
  },
  {
   "cell_type": "code",
   "execution_count": 141,
   "metadata": {},
   "outputs": [
    {
     "data": {
      "text/plain": [
       "['ANREDE_KZ', 'GREEN_AVANTGARDE', 'SOHO_KZ', 'VERS_TYP', 'OST_WEST_KZ']"
      ]
     },
     "execution_count": 141,
     "metadata": {},
     "output_type": "execute_result"
    }
   ],
   "source": [
    "#so columns in demographic dataframe that are binary categorical variable are:\n",
    "binary_level_vari"
   ]
  },
  {
   "cell_type": "code",
   "execution_count": 142,
   "metadata": {},
   "outputs": [
    {
     "data": {
      "text/plain": [
       "['CJT_GESAMTTYP',\n",
       " 'FINANZTYP',\n",
       " 'GFK_URLAUBERTYP',\n",
       " 'LP_FAMILIE_FEIN',\n",
       " 'LP_FAMILIE_GROB',\n",
       " 'LP_STATUS_FEIN',\n",
       " 'LP_STATUS_GROB',\n",
       " 'NATIONALITAET_KZ',\n",
       " 'SHOPPER_TYP',\n",
       " 'ZABEOTYP',\n",
       " 'GEBAEUDETYP',\n",
       " 'CAMEO_DEUG_2015',\n",
       " 'CAMEO_DEU_2015']"
      ]
     },
     "execution_count": 142,
     "metadata": {},
     "output_type": "execute_result"
    }
   ],
   "source": [
    "#and, columns in demographic dataframe that are multi-level categorical variable are:\n",
    "multi_level_vari"
   ]
  },
  {
   "cell_type": "code",
   "execution_count": 143,
   "metadata": {},
   "outputs": [
    {
     "name": "stdout",
     "output_type": "stream",
     "text": [
      "ANREDE_KZ [2 1]\n",
      "GREEN_AVANTGARDE [0 1]\n",
      "SOHO_KZ [ 1.  0.]\n",
      "VERS_TYP [  2.   1.  nan]\n",
      "OST_WEST_KZ ['W' 'O']\n"
     ]
    }
   ],
   "source": [
    "#binary columns and their unique values\n",
    "for col in binary_level_vari:\n",
    "    print(col,df_null_below_20[col].unique())\n",
    "    "
   ]
  },
  {
   "cell_type": "code",
   "execution_count": 144,
   "metadata": {},
   "outputs": [
    {
     "name": "stdout",
     "output_type": "stream",
     "text": [
      "OST_WEST_KZ\n"
     ]
    }
   ],
   "source": [
    "#now we have all the binary and multi-level categorical variable with us, so let's move to encoding \n",
    "#as per the task, we need to encode a binary feature that has non-numerical value\n",
    "#so we will now find that variable\n",
    "for col in binary_level_vari:\n",
    "    if df_null_below_20[col].dtype=='object':\n",
    "        print(col)"
   ]
  },
  {
   "cell_type": "code",
   "execution_count": 145,
   "metadata": {
    "collapsed": true
   },
   "outputs": [],
   "source": [
    "#encoding 'OST_WEST_KZ' feature\n",
    "df_null_below_20['OST_WEST_KZ']=df_null_below_20['OST_WEST_KZ'].apply(lambda x: 0 if x=='O' else (1 if x=='W' else np.NaN))"
   ]
  },
  {
   "cell_type": "code",
   "execution_count": 146,
   "metadata": {},
   "outputs": [
    {
     "data": {
      "text/plain": [
       "1    628987\n",
       "0    168439\n",
       "Name: OST_WEST_KZ, dtype: int64"
      ]
     },
     "execution_count": 146,
     "metadata": {},
     "output_type": "execute_result"
    }
   ],
   "source": [
    "#let's check the value counts again to see if the last operation got executed properly\n",
    "df_null_below_20.OST_WEST_KZ.value_counts()"
   ]
  },
  {
   "cell_type": "code",
   "execution_count": 147,
   "metadata": {
    "collapsed": true
   },
   "outputs": [],
   "source": [
    "#also encoding 'ANREDE_KZ' and 'VERS_TYP'. \n",
    "df_null_below_20['ANREDE_KZ']=df_null_below_20['ANREDE_KZ'].apply(lambda x: 0 if x==1 else (1 if x==2 else np.NaN))\n",
    "df_null_below_20['VERS_TYP']=df_null_below_20['VERS_TYP'].apply(lambda x: 0 if x==1 else (1 if x==2 else np.NaN))"
   ]
  },
  {
   "cell_type": "code",
   "execution_count": 148,
   "metadata": {},
   "outputs": [
    {
     "name": "stdout",
     "output_type": "stream",
     "text": [
      "CJT_GESAMTTYP [  5.   3.   2.   4.   1.   6.  nan] \n",
      "\n",
      "FINANZTYP [1 6 5 2 4 3] \n",
      "\n",
      "GFK_URLAUBERTYP [ 10.   1.   5.  12.   9.   3.   8.  11.   4.   2.   7.   6.  nan] \n",
      "\n",
      "LP_FAMILIE_FEIN [  5.   1.  nan  10.   2.   7.  11.   8.   4.   6.   9.   3.] \n",
      "\n",
      "LP_FAMILIE_GROB [  3.   1.  nan   5.   2.   4.] \n",
      "\n",
      "LP_STATUS_FEIN [  2.   3.   9.   4.   1.  10.   5.   8.   6.   7.  nan] \n",
      "\n",
      "LP_STATUS_GROB [  1.   2.   4.   5.   3.  nan] \n",
      "\n",
      "NATIONALITAET_KZ [  1.   3.   2.  nan] \n",
      "\n",
      "SHOPPER_TYP [  3.   2.   1.   0.  nan] \n",
      "\n",
      "ZABEOTYP [5 3 4 1 6 2] \n",
      "\n",
      "GEBAEUDETYP [ 8.  1.  3.  2.  6.  4.  5.] \n",
      "\n",
      "CAMEO_DEUG_2015 ['8' '4' '2' '6' '1' '9' '5' '7' nan '3'] \n",
      "\n",
      "CAMEO_DEU_2015 ['8A' '4C' '2A' '6B' '8C' '4A' '2D' '1A' '1E' '9D' '5C' '8B' '7A' '5D' '9E'\n",
      " nan '9B' '1B' '3D' '4E' '4B' '3C' '5A' '7B' '9A' '6D' '6E' '2C' '7C' '9C'\n",
      " '7D' '5E' '1D' '8D' '6C' '6A' '5B' '4D' '3A' '2B' '7E' '3B' '6F' '5F' '1C'] \n",
      "\n"
     ]
    }
   ],
   "source": [
    "#multi-level categorical variable and their corresponding unique value present in them which will be encoded\n",
    "for col in multi_level_vari:\n",
    "    print(col,df_null_below_20[col].unique(), '\\n')"
   ]
  },
  {
   "cell_type": "code",
   "execution_count": 149,
   "metadata": {
    "collapsed": true
   },
   "outputs": [],
   "source": [
    "#now encoding all multi-level categorical variable \n",
    "df_null_below_20=pd.get_dummies(data=df_null_below_20, columns=multi_level_vari)"
   ]
  },
  {
   "cell_type": "markdown",
   "metadata": {},
   "source": [
    "#### Discussion 1.2.1: Re-Encode Categorical Features\n",
    "\n",
    "(Double-click this cell and replace this text with your own text, reporting your findings and decisions regarding categorical features. Which ones did you keep, which did you drop, and what engineering steps did you perform?)\n",
    "\n",
    "**Answer**:\n",
    "1. There are 21 categorical features in the feature summary dataframe, out of them 18 are present in the demographic dataframe. (As we removed few features before from the demographic dataframe)\n",
    "2. Out of 18 categorical features available in the demographic dataframe, 5 are binary type variable and 13 are multi-level variable.\n",
    "3. One of the binary categorical features 'OST_WEST_KZ' had non numerical values. Later, this feature was encoded with binary values 0 and 1.\n",
    "4. Binary features 'ANREDE_KZ', 'VERS_TYP' was encoded with binary values 0, 1\n",
    "5. All the multi-level categorical feaures have been encoded using one-hot coding technique and were added to the demographic dataframe. No feature was removed.\n"
   ]
  },
  {
   "cell_type": "markdown",
   "metadata": {},
   "source": [
    "---"
   ]
  },
  {
   "cell_type": "markdown",
   "metadata": {},
   "source": [
    "#### Step 1.2.2: Engineer Mixed-Type Features\n",
    "\n",
    "There are a handful of features that are marked as \"mixed\" in the feature summary that require special treatment in order to be included in the analysis. There are two in particular that deserve attention; the handling of the rest are up to your own choices:\n",
    "- \"PRAEGENDE_JUGENDJAHRE\" combines information on three dimensions: generation by decade, movement (mainstream vs. avantgarde), and nation (east vs. west). While there aren't enough levels to disentangle east from west, you should create two new variables to capture the other two dimensions: an interval-type variable for decade, and a binary variable for movement.\n",
    "- \"CAMEO_INTL_2015\" combines information on two axes: wealth and life stage. Break up the two-digit codes by their 'tens'-place and 'ones'-place digits into two new ordinal variables (which, for the purposes of this project, is equivalent to just treating them as their raw numeric values).\n",
    "- If you decide to keep or engineer new features around the other mixed-type features, make sure you note your steps in the Discussion section.\n",
    "\n",
    "Be sure to check `Data_Dictionary.md` for the details needed to finish these tasks."
   ]
  },
  {
   "cell_type": "code",
   "execution_count": 150,
   "metadata": {
    "collapsed": true
   },
   "outputs": [],
   "source": [
    "# Investigate \"PRAEGENDE_JUGENDJAHRE\" and engineer two new variables.\n",
    "\n",
    "#movement\n",
    "mainstream=[1, 3, 5, 8, 10, 12, 14]\n",
    "avantgrade=[2, 4, 6, 7, 9, 11, 13, 15]\n",
    "\n",
    "#creating first new binary variable (for movement)\n",
    "df_null_below_20['PRAEGENDE_JUGENDJAHRE_MOVEMENT']=df_null_below_20['PRAEGENDE_JUGENDJAHRE'].apply(lambda x: 1 if x in mainstream else (0 if x in avantgrade else x))\n",
    "\n",
    "#creaing second variable for decade\n",
    "decade_dict={1:1, 2:1, 3:2, 4:2, 5:3, 6:3, 7:3, 8:4, 9:4, 10:5, 11:5, 12:5, 13:5, 14:6, 15:6}\n",
    "df_null_below_20['PRAEGENDE_JUGENDJAHRE_DECADE']=df_null_below_20['PRAEGENDE_JUGENDJAHRE'].map(decade_dict)\n",
    "\n",
    "#drop 'PRAEGENDE_JUGENDJAHRE' column\n",
    "df_null_below_20.drop(columns=['PRAEGENDE_JUGENDJAHRE'], inplace=True)"
   ]
  },
  {
   "cell_type": "code",
   "execution_count": 151,
   "metadata": {
    "collapsed": true
   },
   "outputs": [],
   "source": [
    "#investigating \"CAMEO_INTL_2015\" and engineer two new variables\n",
    "def first_digit(x):\n",
    "    try:\n",
    "        return int(x)//10\n",
    "    except:\n",
    "        return x\n",
    "    \n",
    "\n",
    "def last_digit(x):\n",
    "    try:\n",
    "        return int(x)%10\n",
    "    except:\n",
    "        return x\n",
    "\n",
    "    \n",
    "df_null_below_20['CAMEO_INTL_2015_WEALTH']=df_null_below_20['CAMEO_INTL_2015'].apply(first_digit)\n",
    "df_null_below_20['CAMEO_INTL_2015_LIFE_STAGE']=df_null_below_20['CAMEO_INTL_2015'].apply(last_digit)\n",
    "\n",
    "\n",
    "#drop 'CAMEO_INTL_2015' column\n",
    "df_null_below_20.drop(columns=['CAMEO_INTL_2015'], inplace=True)"
   ]
  },
  {
   "cell_type": "markdown",
   "metadata": {},
   "source": [
    "#### Discussion 1.2.2: Engineer Mixed-Type Features\n",
    "\n",
    "(Double-click this cell and replace this text with your own text, reporting your findings and decisions regarding mixed-value features. Which ones did you keep, which did you drop, and what engineering steps did you perform?)\n",
    "\n",
    "**Answer:**\n",
    "\n",
    "1. I noticed that there are two type of movements (mainstream and avantgrade), and 6 types of generations present in the 'PRAEGENDE_JUGENDJAHRE' columns. (By using Data Dictionary file)\n",
    "\n",
    "2. Created two variables to store these movement and generation data and that are: 'PRAEGENDE_JUGENDJAHRE_MOVEMENT' and 'PRAEGENDE_JUGENDJAHRE_DECADE. Made use of 'apply' function and 'map' function to classify data.\n",
    "\n",
    "3. Similary for feature 'CAMEO_INTL_2015' two variable are created. One is storing the first digit of the column value and another one is storing the last digit of the column  value. Columns that store the first digit represents infromation about the wealth ('CAMEO_INTL_2015_WEALTH') and the column that stores the last digit represents information about the life stages ('CAMEO_INTL_2015_LIFE_STAGE').\n",
    "\n",
    "4. No mixed-value features have been deleted as I didn't find any problem in them."
   ]
  },
  {
   "cell_type": "markdown",
   "metadata": {},
   "source": [
    "#### Step 1.2.3: Complete Feature Selection\n",
    "\n",
    "In order to finish this step up, you need to make sure that your data frame now only has the columns that you want to keep. To summarize, the dataframe should consist of the following:\n",
    "- All numeric, interval, and ordinal type columns from the original dataset.\n",
    "- Binary categorical features (all numerically-encoded).\n",
    "- Engineered features from other multi-level categorical features and mixed features.\n",
    "\n",
    "Make sure that for any new columns that you have engineered, that you've excluded the original columns from the final dataset. Otherwise, their values will interfere with the analysis later on the project. For example, you should not keep \"PRAEGENDE_JUGENDJAHRE\", since its values won't be useful for the algorithm: only the values derived from it in the engineered features you created should be retained. As a reminder, your data should only be from **the subset with few or no missing values**."
   ]
  },
  {
   "cell_type": "code",
   "execution_count": 152,
   "metadata": {},
   "outputs": [
    {
     "data": {
      "text/plain": [
       "(797426, 196)"
      ]
     },
     "execution_count": 152,
     "metadata": {},
     "output_type": "execute_result"
    }
   ],
   "source": [
    "# If there are other re-engineering tasks you need to perform, make sure you\n",
    "# take care of them here. (Dealing with missing data will come in step 2.1.)\n",
    "\n",
    "df_null_below_20.shape"
   ]
  },
  {
   "cell_type": "code",
   "execution_count": 153,
   "metadata": {
    "collapsed": true
   },
   "outputs": [],
   "source": [
    "# Do whatever you need to in order to ensure that the dataframe only contains\n",
    "# the columns that should be passed to the algorithm functions."
   ]
  },
  {
   "cell_type": "markdown",
   "metadata": {},
   "source": [
    "### Step 1.3: Create a Cleaning Function\n",
    "\n",
    "Even though you've finished cleaning up the general population demographics data, it's important to look ahead to the future and realize that you'll need to perform the same cleaning steps on the customer demographics data. In this substep, complete the function below to execute the main feature selection, encoding, and re-engineering steps you performed above. Then, when it comes to looking at the customer data in Step 3, you can just run this function on that DataFrame to get the trimmed dataset in a single step."
   ]
  },
  {
   "cell_type": "code",
   "execution_count": 290,
   "metadata": {},
   "outputs": [],
   "source": [
    "def clean_data(df):\n",
    "    \"\"\"\n",
    "    Perform feature trimming, re-encoding, and engineering for demographics\n",
    "    data\n",
    "    \n",
    "    INPUT: Demographics DataFrame\n",
    "    OUTPUT: Trimmed and cleaned demographics DataFrame\n",
    "    \"\"\"\n",
    "    # Put in code here to execute all main cleaning steps:\n",
    "    \n",
    "    #1) convert missing value codes into NaNs, ...\n",
    "    #creating the code dictionary and replacing all missing and unknown values to NaN\n",
    "    columns=df.columns\n",
    "    dict_codes={}  \n",
    "\n",
    "    for index, col in enumerate(columns):\n",
    "        \n",
    "        result_in_str=feat_info.iloc[index,3]\n",
    "        codes=[]\n",
    "        for value in result_in_str.strip('[]').split(','):\n",
    "            try:\n",
    "                codes.append(int(value))\n",
    "            except ValueError:\n",
    "                codes.append(value)\n",
    "                \n",
    "        dict_codes[col]=codes\n",
    "        \n",
    "    for col in columns:\n",
    "        df[col]=df[col].apply(lambda x: np.NaN if x in dict_codes[col] else x)\n",
    "\n",
    "        \n",
    "    \n",
    "    # 2) remove selected columns and rows, ...\n",
    "    #remove columns i.e. rows having > 30% of missing values\n",
    "    df.drop(columns=['AGER_TYP', 'GEBURTSJAHR', 'TITEL_KZ', 'ALTER_HH', 'KK_KUNDENTYP', 'KBA05_BAUMAX'], inplace=True)\n",
    "    \n",
    "    #create two groups based on the null values present in the rows\n",
    "    df_less_null_values=df[df.isnull().sum(axis=1)<=20]\n",
    "    df_more_null_values=df[df.isnull().sum(axis=1)>20]\n",
    "\n",
    "    \n",
    "    # 3)select, re-encode, and engineer column values.\n",
    "    #encoding binary features\n",
    "    df_less_null_values['OST_WEST_KZ']=df_less_null_values['OST_WEST_KZ'].apply(lambda x: 0 if x=='O' else (1 if x=='W' else np.NaN))\n",
    "    df_less_null_values['ANREDE_KZ']=df_less_null_values['ANREDE_KZ'].apply(lambda x: 0 if x==1 else (1 if x==2 else np.NaN))\n",
    "    df_less_null_values['VERS_TYP']=df_less_null_values['VERS_TYP'].apply(lambda x: 0 if x==1 else (1 if x==2 else np.NaN))\n",
    "    \n",
    "    #encoding multi-level categorical features\n",
    "    df_less_null_values=pd.get_dummies(data=df_less_null_values, columns=multi_level_vari)\n",
    "    \n",
    "    #handling mixed type features\n",
    "    \n",
    "    #1) handling feature 'PRAEGENDE_JUGENDJAHRE'\n",
    "    mainstream=[1, 3, 5, 8, 10, 12, 14]\n",
    "    avantgrade=[2, 4, 6, 7, 9, 11, 13, 15]\n",
    "    df_less_null_values['PRAEGENDE_JUGENDJAHRE_MOVEMENT']=df_less_null_values['PRAEGENDE_JUGENDJAHRE'].apply(lambda x: 1 if x in mainstream else (0 if x in avantgrade else x))\n",
    "    decade_dict={1:1, 2:1, 3:2, 4:2, 5:3, 6:3, 7:3, 8:4, 9:4, 10:5, 11:5, 12:5, 13:5, 14:6, 15:6}\n",
    "    df_less_null_values['PRAEGENDE_JUGENDJAHRE_DECADE']=df_less_null_values['PRAEGENDE_JUGENDJAHRE'].map(decade_dict)\n",
    "    #drop 'PRAEGENDE_JUGENDJAHRE' column\n",
    "    df_less_null_values.drop(columns=['PRAEGENDE_JUGENDJAHRE'], inplace=True)\n",
    "    \n",
    "    #2)handling 'CAMEO_INTL_2015'\n",
    "    def first_digit(x):\n",
    "        try:\n",
    "            return int(x)//10\n",
    "        except:\n",
    "            return x\n",
    "\n",
    "    def last_digit(x):\n",
    "        try:\n",
    "            return int(x)%10\n",
    "        except:\n",
    "            return x\n",
    "\n",
    "    df_less_null_values['CAMEO_INTL_2015_WEALTH']=df_less_null_values['CAMEO_INTL_2015'].apply(first_digit)\n",
    "    df_less_null_values['CAMEO_INTL_2015_LIFE_STAGE']=df_less_null_values['CAMEO_INTL_2015'].apply(last_digit)\n",
    "\n",
    "    #drop 'CAMEO_INTL_2015' column\n",
    "    df_less_null_values.drop(columns=['CAMEO_INTL_2015'], inplace=True)\n",
    "    \n",
    "    #return the cleaned dataframe.\n",
    "    return df_less_null_values, df_more_null_values\n",
    "    \n",
    "    "
   ]
  },
  {
   "cell_type": "markdown",
   "metadata": {},
   "source": [
    "## Step 2: Feature Transformation\n",
    "\n",
    "### Step 2.1: Apply Feature Scaling\n",
    "\n",
    "Before we apply dimensionality reduction techniques to the data, we need to perform feature scaling so that the principal component vectors are not influenced by the natural differences in scale for features. Starting from this part of the project, you'll want to keep an eye on the [API reference page for sklearn](http://scikit-learn.org/stable/modules/classes.html) to help you navigate to all of the classes and functions that you'll need. In this substep, you'll need to check the following:\n",
    "\n",
    "- sklearn requires that data not have missing values in order for its estimators to work properly. So, before applying the scaler to your data, make sure that you've cleaned the DataFrame of the remaining missing values. This can be as simple as just removing all data points with missing data, or applying an [Imputer](http://scikit-learn.org/stable/modules/generated/sklearn.preprocessing.Imputer.html) to replace all missing values. You might also try a more complicated procedure where you temporarily remove missing values in order to compute the scaling parameters before re-introducing those missing values and applying imputation. Think about how much missing data you have and what possible effects each approach might have on your analysis, and justify your decision in the discussion section below.\n",
    "- For the actual scaling function, a [StandardScaler](http://scikit-learn.org/stable/modules/generated/sklearn.preprocessing.StandardScaler.html) instance is suggested, scaling each feature to mean 0 and standard deviation 1.\n",
    "- For these classes, you can make use of the `.fit_transform()` method to both fit a procedure to the data as well as apply the transformation to the data at the same time. Don't forget to keep the fit sklearn objects handy, since you'll be applying them to the customer demographics data towards the end of the project."
   ]
  },
  {
   "cell_type": "code",
   "execution_count": 155,
   "metadata": {},
   "outputs": [
    {
     "data": {
      "text/plain": [
       "ALTERSKATEGORIE_GROB               2784\n",
       "ANREDE_KZ                             0\n",
       "FINANZ_MINIMALIST                     0\n",
       "FINANZ_SPARER                         0\n",
       "FINANZ_VORSORGER                      0\n",
       "FINANZ_ANLEGER                        0\n",
       "FINANZ_UNAUFFAELLIGER                 0\n",
       "FINANZ_HAUSBAUER                      0\n",
       "GREEN_AVANTGARDE                      0\n",
       "HEALTH_TYP                        36417\n",
       "LP_LEBENSPHASE_FEIN               49651\n",
       "LP_LEBENSPHASE_GROB               46830\n",
       "RETOURTYP_BK_S                     4634\n",
       "SEMIO_SOZ                             0\n",
       "SEMIO_FAM                             0\n",
       "SEMIO_REL                             0\n",
       "SEMIO_MAT                             0\n",
       "SEMIO_VERT                            0\n",
       "SEMIO_LUST                            0\n",
       "SEMIO_ERL                             0\n",
       "SEMIO_KULT                            0\n",
       "SEMIO_RAT                             0\n",
       "SEMIO_KRIT                            0\n",
       "SEMIO_DOM                             0\n",
       "SEMIO_KAEM                            0\n",
       "SEMIO_PFLICHT                         0\n",
       "SEMIO_TRADV                           0\n",
       "SOHO_KZ                               0\n",
       "VERS_TYP                          36417\n",
       "ANZ_PERSONEN                          0\n",
       "                                  ...  \n",
       "CAMEO_DEU_2015_5A                     0\n",
       "CAMEO_DEU_2015_5B                     0\n",
       "CAMEO_DEU_2015_5C                     0\n",
       "CAMEO_DEU_2015_5D                     0\n",
       "CAMEO_DEU_2015_5E                     0\n",
       "CAMEO_DEU_2015_5F                     0\n",
       "CAMEO_DEU_2015_6A                     0\n",
       "CAMEO_DEU_2015_6B                     0\n",
       "CAMEO_DEU_2015_6C                     0\n",
       "CAMEO_DEU_2015_6D                     0\n",
       "CAMEO_DEU_2015_6E                     0\n",
       "CAMEO_DEU_2015_6F                     0\n",
       "CAMEO_DEU_2015_7A                     0\n",
       "CAMEO_DEU_2015_7B                     0\n",
       "CAMEO_DEU_2015_7C                     0\n",
       "CAMEO_DEU_2015_7D                     0\n",
       "CAMEO_DEU_2015_7E                     0\n",
       "CAMEO_DEU_2015_8A                     0\n",
       "CAMEO_DEU_2015_8B                     0\n",
       "CAMEO_DEU_2015_8C                     0\n",
       "CAMEO_DEU_2015_8D                     0\n",
       "CAMEO_DEU_2015_9A                     0\n",
       "CAMEO_DEU_2015_9B                     0\n",
       "CAMEO_DEU_2015_9C                     0\n",
       "CAMEO_DEU_2015_9D                     0\n",
       "CAMEO_DEU_2015_9E                     0\n",
       "PRAEGENDE_JUGENDJAHRE_MOVEMENT    28458\n",
       "PRAEGENDE_JUGENDJAHRE_DECADE      28458\n",
       "CAMEO_INTL_2015_WEALTH             6003\n",
       "CAMEO_INTL_2015_LIFE_STAGE         6003\n",
       "Length: 196, dtype: int64"
      ]
     },
     "execution_count": 155,
     "metadata": {},
     "output_type": "execute_result"
    }
   ],
   "source": [
    "# If you've not yet cleaned the dataset of all NaN values, then investigate and\n",
    "# do that now.\n",
    "\n",
    "#columns and corresponding total number of null values \n",
    "df_null_below_20.isnull().sum()"
   ]
  },
  {
   "cell_type": "code",
   "execution_count": 207,
   "metadata": {},
   "outputs": [],
   "source": [
    "#imputing data now. Creating imputer\n",
    "impute= Imputer(strategy='most_frequent')\n",
    "imputed_data=impute.fit_transform(df_null_below_20)"
   ]
  },
  {
   "cell_type": "code",
   "execution_count": 208,
   "metadata": {},
   "outputs": [],
   "source": [
    "#converting imputed data to dataframe\n",
    "df_imputed=pd.DataFrame(imputed_data)\n",
    "df_imputed.columns=df_null_below_20.columns\n",
    "df_imputed.index= df_null_below_20.index"
   ]
  },
  {
   "cell_type": "code",
   "execution_count": 209,
   "metadata": {},
   "outputs": [
    {
     "data": {
      "text/html": [
       "<div>\n",
       "<style scoped>\n",
       "    .dataframe tbody tr th:only-of-type {\n",
       "        vertical-align: middle;\n",
       "    }\n",
       "\n",
       "    .dataframe tbody tr th {\n",
       "        vertical-align: top;\n",
       "    }\n",
       "\n",
       "    .dataframe thead th {\n",
       "        text-align: right;\n",
       "    }\n",
       "</style>\n",
       "<table border=\"1\" class=\"dataframe\">\n",
       "  <thead>\n",
       "    <tr style=\"text-align: right;\">\n",
       "      <th></th>\n",
       "      <th>ALTERSKATEGORIE_GROB</th>\n",
       "      <th>ANREDE_KZ</th>\n",
       "      <th>FINANZ_MINIMALIST</th>\n",
       "      <th>FINANZ_SPARER</th>\n",
       "      <th>FINANZ_VORSORGER</th>\n",
       "      <th>FINANZ_ANLEGER</th>\n",
       "      <th>FINANZ_UNAUFFAELLIGER</th>\n",
       "      <th>FINANZ_HAUSBAUER</th>\n",
       "      <th>GREEN_AVANTGARDE</th>\n",
       "      <th>HEALTH_TYP</th>\n",
       "      <th>...</th>\n",
       "      <th>CAMEO_DEU_2015_8D</th>\n",
       "      <th>CAMEO_DEU_2015_9A</th>\n",
       "      <th>CAMEO_DEU_2015_9B</th>\n",
       "      <th>CAMEO_DEU_2015_9C</th>\n",
       "      <th>CAMEO_DEU_2015_9D</th>\n",
       "      <th>CAMEO_DEU_2015_9E</th>\n",
       "      <th>PRAEGENDE_JUGENDJAHRE_MOVEMENT</th>\n",
       "      <th>PRAEGENDE_JUGENDJAHRE_DECADE</th>\n",
       "      <th>CAMEO_INTL_2015_WEALTH</th>\n",
       "      <th>CAMEO_INTL_2015_LIFE_STAGE</th>\n",
       "    </tr>\n",
       "  </thead>\n",
       "  <tbody>\n",
       "    <tr>\n",
       "      <th>1</th>\n",
       "      <td>1.0</td>\n",
       "      <td>1.0</td>\n",
       "      <td>1.0</td>\n",
       "      <td>5.0</td>\n",
       "      <td>2.0</td>\n",
       "      <td>5.0</td>\n",
       "      <td>4.0</td>\n",
       "      <td>5.0</td>\n",
       "      <td>0.0</td>\n",
       "      <td>3.0</td>\n",
       "      <td>...</td>\n",
       "      <td>0.0</td>\n",
       "      <td>0.0</td>\n",
       "      <td>0.0</td>\n",
       "      <td>0.0</td>\n",
       "      <td>0.0</td>\n",
       "      <td>0.0</td>\n",
       "      <td>1.0</td>\n",
       "      <td>6.0</td>\n",
       "      <td>5.0</td>\n",
       "      <td>1.0</td>\n",
       "    </tr>\n",
       "    <tr>\n",
       "      <th>2</th>\n",
       "      <td>3.0</td>\n",
       "      <td>1.0</td>\n",
       "      <td>1.0</td>\n",
       "      <td>4.0</td>\n",
       "      <td>1.0</td>\n",
       "      <td>2.0</td>\n",
       "      <td>3.0</td>\n",
       "      <td>5.0</td>\n",
       "      <td>1.0</td>\n",
       "      <td>3.0</td>\n",
       "      <td>...</td>\n",
       "      <td>0.0</td>\n",
       "      <td>0.0</td>\n",
       "      <td>0.0</td>\n",
       "      <td>0.0</td>\n",
       "      <td>0.0</td>\n",
       "      <td>0.0</td>\n",
       "      <td>0.0</td>\n",
       "      <td>6.0</td>\n",
       "      <td>2.0</td>\n",
       "      <td>4.0</td>\n",
       "    </tr>\n",
       "    <tr>\n",
       "      <th>3</th>\n",
       "      <td>4.0</td>\n",
       "      <td>1.0</td>\n",
       "      <td>4.0</td>\n",
       "      <td>2.0</td>\n",
       "      <td>5.0</td>\n",
       "      <td>2.0</td>\n",
       "      <td>1.0</td>\n",
       "      <td>2.0</td>\n",
       "      <td>0.0</td>\n",
       "      <td>2.0</td>\n",
       "      <td>...</td>\n",
       "      <td>0.0</td>\n",
       "      <td>0.0</td>\n",
       "      <td>0.0</td>\n",
       "      <td>0.0</td>\n",
       "      <td>0.0</td>\n",
       "      <td>0.0</td>\n",
       "      <td>1.0</td>\n",
       "      <td>4.0</td>\n",
       "      <td>1.0</td>\n",
       "      <td>2.0</td>\n",
       "    </tr>\n",
       "    <tr>\n",
       "      <th>4</th>\n",
       "      <td>3.0</td>\n",
       "      <td>0.0</td>\n",
       "      <td>4.0</td>\n",
       "      <td>3.0</td>\n",
       "      <td>4.0</td>\n",
       "      <td>1.0</td>\n",
       "      <td>3.0</td>\n",
       "      <td>2.0</td>\n",
       "      <td>0.0</td>\n",
       "      <td>3.0</td>\n",
       "      <td>...</td>\n",
       "      <td>0.0</td>\n",
       "      <td>0.0</td>\n",
       "      <td>0.0</td>\n",
       "      <td>0.0</td>\n",
       "      <td>0.0</td>\n",
       "      <td>0.0</td>\n",
       "      <td>1.0</td>\n",
       "      <td>4.0</td>\n",
       "      <td>4.0</td>\n",
       "      <td>3.0</td>\n",
       "    </tr>\n",
       "    <tr>\n",
       "      <th>5</th>\n",
       "      <td>1.0</td>\n",
       "      <td>1.0</td>\n",
       "      <td>3.0</td>\n",
       "      <td>1.0</td>\n",
       "      <td>5.0</td>\n",
       "      <td>2.0</td>\n",
       "      <td>2.0</td>\n",
       "      <td>5.0</td>\n",
       "      <td>0.0</td>\n",
       "      <td>3.0</td>\n",
       "      <td>...</td>\n",
       "      <td>0.0</td>\n",
       "      <td>0.0</td>\n",
       "      <td>0.0</td>\n",
       "      <td>0.0</td>\n",
       "      <td>0.0</td>\n",
       "      <td>0.0</td>\n",
       "      <td>1.0</td>\n",
       "      <td>2.0</td>\n",
       "      <td>5.0</td>\n",
       "      <td>4.0</td>\n",
       "    </tr>\n",
       "  </tbody>\n",
       "</table>\n",
       "<p>5 rows × 196 columns</p>\n",
       "</div>"
      ],
      "text/plain": [
       "   ALTERSKATEGORIE_GROB  ANREDE_KZ  FINANZ_MINIMALIST  FINANZ_SPARER  \\\n",
       "1                   1.0        1.0                1.0            5.0   \n",
       "2                   3.0        1.0                1.0            4.0   \n",
       "3                   4.0        1.0                4.0            2.0   \n",
       "4                   3.0        0.0                4.0            3.0   \n",
       "5                   1.0        1.0                3.0            1.0   \n",
       "\n",
       "   FINANZ_VORSORGER  FINANZ_ANLEGER  FINANZ_UNAUFFAELLIGER  FINANZ_HAUSBAUER  \\\n",
       "1               2.0             5.0                    4.0               5.0   \n",
       "2               1.0             2.0                    3.0               5.0   \n",
       "3               5.0             2.0                    1.0               2.0   \n",
       "4               4.0             1.0                    3.0               2.0   \n",
       "5               5.0             2.0                    2.0               5.0   \n",
       "\n",
       "   GREEN_AVANTGARDE  HEALTH_TYP             ...              \\\n",
       "1               0.0         3.0             ...               \n",
       "2               1.0         3.0             ...               \n",
       "3               0.0         2.0             ...               \n",
       "4               0.0         3.0             ...               \n",
       "5               0.0         3.0             ...               \n",
       "\n",
       "   CAMEO_DEU_2015_8D  CAMEO_DEU_2015_9A  CAMEO_DEU_2015_9B  CAMEO_DEU_2015_9C  \\\n",
       "1                0.0                0.0                0.0                0.0   \n",
       "2                0.0                0.0                0.0                0.0   \n",
       "3                0.0                0.0                0.0                0.0   \n",
       "4                0.0                0.0                0.0                0.0   \n",
       "5                0.0                0.0                0.0                0.0   \n",
       "\n",
       "   CAMEO_DEU_2015_9D  CAMEO_DEU_2015_9E  PRAEGENDE_JUGENDJAHRE_MOVEMENT  \\\n",
       "1                0.0                0.0                             1.0   \n",
       "2                0.0                0.0                             0.0   \n",
       "3                0.0                0.0                             1.0   \n",
       "4                0.0                0.0                             1.0   \n",
       "5                0.0                0.0                             1.0   \n",
       "\n",
       "   PRAEGENDE_JUGENDJAHRE_DECADE  CAMEO_INTL_2015_WEALTH  \\\n",
       "1                           6.0                     5.0   \n",
       "2                           6.0                     2.0   \n",
       "3                           4.0                     1.0   \n",
       "4                           4.0                     4.0   \n",
       "5                           2.0                     5.0   \n",
       "\n",
       "   CAMEO_INTL_2015_LIFE_STAGE  \n",
       "1                         1.0  \n",
       "2                         4.0  \n",
       "3                         2.0  \n",
       "4                         3.0  \n",
       "5                         4.0  \n",
       "\n",
       "[5 rows x 196 columns]"
      ]
     },
     "execution_count": 209,
     "metadata": {},
     "output_type": "execute_result"
    }
   ],
   "source": [
    "#let's see how dataframe looks like\n",
    "df_imputed.head()"
   ]
  },
  {
   "cell_type": "code",
   "execution_count": 210,
   "metadata": {},
   "outputs": [],
   "source": [
    "# Apply feature scaling to the general population demographics data.\n",
    "scaler= StandardScaler()\n",
    "feature_scaled=scaler.fit_transform(df_imputed)\n",
    "\n",
    "#converting feature_scaled in a dataframe\n",
    "df_scaled=pd.DataFrame(feature_scaled)\n",
    "df_scaled.columns= df_imputed.columns\n",
    "df_scaled.index=df_imputed.index"
   ]
  },
  {
   "cell_type": "code",
   "execution_count": 211,
   "metadata": {},
   "outputs": [
    {
     "data": {
      "text/html": [
       "<div>\n",
       "<style scoped>\n",
       "    .dataframe tbody tr th:only-of-type {\n",
       "        vertical-align: middle;\n",
       "    }\n",
       "\n",
       "    .dataframe tbody tr th {\n",
       "        vertical-align: top;\n",
       "    }\n",
       "\n",
       "    .dataframe thead th {\n",
       "        text-align: right;\n",
       "    }\n",
       "</style>\n",
       "<table border=\"1\" class=\"dataframe\">\n",
       "  <thead>\n",
       "    <tr style=\"text-align: right;\">\n",
       "      <th></th>\n",
       "      <th>ALTERSKATEGORIE_GROB</th>\n",
       "      <th>ANREDE_KZ</th>\n",
       "      <th>FINANZ_MINIMALIST</th>\n",
       "      <th>FINANZ_SPARER</th>\n",
       "      <th>FINANZ_VORSORGER</th>\n",
       "      <th>FINANZ_ANLEGER</th>\n",
       "      <th>FINANZ_UNAUFFAELLIGER</th>\n",
       "      <th>FINANZ_HAUSBAUER</th>\n",
       "      <th>GREEN_AVANTGARDE</th>\n",
       "      <th>HEALTH_TYP</th>\n",
       "      <th>...</th>\n",
       "      <th>CAMEO_DEU_2015_8D</th>\n",
       "      <th>CAMEO_DEU_2015_9A</th>\n",
       "      <th>CAMEO_DEU_2015_9B</th>\n",
       "      <th>CAMEO_DEU_2015_9C</th>\n",
       "      <th>CAMEO_DEU_2015_9D</th>\n",
       "      <th>CAMEO_DEU_2015_9E</th>\n",
       "      <th>PRAEGENDE_JUGENDJAHRE_MOVEMENT</th>\n",
       "      <th>PRAEGENDE_JUGENDJAHRE_DECADE</th>\n",
       "      <th>CAMEO_INTL_2015_WEALTH</th>\n",
       "      <th>CAMEO_INTL_2015_LIFE_STAGE</th>\n",
       "    </tr>\n",
       "  </thead>\n",
       "  <tbody>\n",
       "    <tr>\n",
       "      <th>1</th>\n",
       "      <td>-1.766334</td>\n",
       "      <td>0.958071</td>\n",
       "      <td>-1.494609</td>\n",
       "      <td>1.538200</td>\n",
       "      <td>-1.040726</td>\n",
       "      <td>1.466448</td>\n",
       "      <td>0.959677</td>\n",
       "      <td>1.338816</td>\n",
       "      <td>-0.530567</td>\n",
       "      <td>1.010368</td>\n",
       "      <td>...</td>\n",
       "      <td>-0.150091</td>\n",
       "      <td>-0.162592</td>\n",
       "      <td>-0.189578</td>\n",
       "      <td>-0.179852</td>\n",
       "      <td>-0.192844</td>\n",
       "      <td>-0.089743</td>\n",
       "      <td>0.530567</td>\n",
       "      <td>1.098531</td>\n",
       "      <td>1.175734</td>\n",
       "      <td>-1.249157</td>\n",
       "    </tr>\n",
       "    <tr>\n",
       "      <th>2</th>\n",
       "      <td>0.200589</td>\n",
       "      <td>0.958071</td>\n",
       "      <td>-1.494609</td>\n",
       "      <td>0.864824</td>\n",
       "      <td>-1.766955</td>\n",
       "      <td>-0.570799</td>\n",
       "      <td>0.244962</td>\n",
       "      <td>1.338816</td>\n",
       "      <td>1.884775</td>\n",
       "      <td>1.010368</td>\n",
       "      <td>...</td>\n",
       "      <td>-0.150091</td>\n",
       "      <td>-0.162592</td>\n",
       "      <td>-0.189578</td>\n",
       "      <td>-0.179852</td>\n",
       "      <td>-0.192844</td>\n",
       "      <td>-0.089743</td>\n",
       "      <td>-1.884775</td>\n",
       "      <td>1.098531</td>\n",
       "      <td>-0.869674</td>\n",
       "      <td>0.766845</td>\n",
       "    </tr>\n",
       "    <tr>\n",
       "      <th>3</th>\n",
       "      <td>1.184051</td>\n",
       "      <td>0.958071</td>\n",
       "      <td>0.683150</td>\n",
       "      <td>-0.481928</td>\n",
       "      <td>1.137960</td>\n",
       "      <td>-0.570799</td>\n",
       "      <td>-1.184467</td>\n",
       "      <td>-0.792034</td>\n",
       "      <td>-0.530567</td>\n",
       "      <td>-0.311674</td>\n",
       "      <td>...</td>\n",
       "      <td>-0.150091</td>\n",
       "      <td>-0.162592</td>\n",
       "      <td>-0.189578</td>\n",
       "      <td>-0.179852</td>\n",
       "      <td>-0.192844</td>\n",
       "      <td>-0.089743</td>\n",
       "      <td>0.530567</td>\n",
       "      <td>-0.267356</td>\n",
       "      <td>-1.551476</td>\n",
       "      <td>-0.577156</td>\n",
       "    </tr>\n",
       "    <tr>\n",
       "      <th>4</th>\n",
       "      <td>0.200589</td>\n",
       "      <td>-1.043765</td>\n",
       "      <td>0.683150</td>\n",
       "      <td>0.191448</td>\n",
       "      <td>0.411731</td>\n",
       "      <td>-1.249881</td>\n",
       "      <td>0.244962</td>\n",
       "      <td>-0.792034</td>\n",
       "      <td>-0.530567</td>\n",
       "      <td>1.010368</td>\n",
       "      <td>...</td>\n",
       "      <td>-0.150091</td>\n",
       "      <td>-0.162592</td>\n",
       "      <td>-0.189578</td>\n",
       "      <td>-0.179852</td>\n",
       "      <td>-0.192844</td>\n",
       "      <td>-0.089743</td>\n",
       "      <td>0.530567</td>\n",
       "      <td>-0.267356</td>\n",
       "      <td>0.493932</td>\n",
       "      <td>0.094845</td>\n",
       "    </tr>\n",
       "    <tr>\n",
       "      <th>5</th>\n",
       "      <td>-1.766334</td>\n",
       "      <td>0.958071</td>\n",
       "      <td>-0.042770</td>\n",
       "      <td>-1.155304</td>\n",
       "      <td>1.137960</td>\n",
       "      <td>-0.570799</td>\n",
       "      <td>-0.469752</td>\n",
       "      <td>1.338816</td>\n",
       "      <td>-0.530567</td>\n",
       "      <td>1.010368</td>\n",
       "      <td>...</td>\n",
       "      <td>-0.150091</td>\n",
       "      <td>-0.162592</td>\n",
       "      <td>-0.189578</td>\n",
       "      <td>-0.179852</td>\n",
       "      <td>-0.192844</td>\n",
       "      <td>-0.089743</td>\n",
       "      <td>0.530567</td>\n",
       "      <td>-1.633243</td>\n",
       "      <td>1.175734</td>\n",
       "      <td>0.766845</td>\n",
       "    </tr>\n",
       "  </tbody>\n",
       "</table>\n",
       "<p>5 rows × 196 columns</p>\n",
       "</div>"
      ],
      "text/plain": [
       "   ALTERSKATEGORIE_GROB  ANREDE_KZ  FINANZ_MINIMALIST  FINANZ_SPARER  \\\n",
       "1             -1.766334   0.958071          -1.494609       1.538200   \n",
       "2              0.200589   0.958071          -1.494609       0.864824   \n",
       "3              1.184051   0.958071           0.683150      -0.481928   \n",
       "4              0.200589  -1.043765           0.683150       0.191448   \n",
       "5             -1.766334   0.958071          -0.042770      -1.155304   \n",
       "\n",
       "   FINANZ_VORSORGER  FINANZ_ANLEGER  FINANZ_UNAUFFAELLIGER  FINANZ_HAUSBAUER  \\\n",
       "1         -1.040726        1.466448               0.959677          1.338816   \n",
       "2         -1.766955       -0.570799               0.244962          1.338816   \n",
       "3          1.137960       -0.570799              -1.184467         -0.792034   \n",
       "4          0.411731       -1.249881               0.244962         -0.792034   \n",
       "5          1.137960       -0.570799              -0.469752          1.338816   \n",
       "\n",
       "   GREEN_AVANTGARDE  HEALTH_TYP             ...              \\\n",
       "1         -0.530567    1.010368             ...               \n",
       "2          1.884775    1.010368             ...               \n",
       "3         -0.530567   -0.311674             ...               \n",
       "4         -0.530567    1.010368             ...               \n",
       "5         -0.530567    1.010368             ...               \n",
       "\n",
       "   CAMEO_DEU_2015_8D  CAMEO_DEU_2015_9A  CAMEO_DEU_2015_9B  CAMEO_DEU_2015_9C  \\\n",
       "1          -0.150091          -0.162592          -0.189578          -0.179852   \n",
       "2          -0.150091          -0.162592          -0.189578          -0.179852   \n",
       "3          -0.150091          -0.162592          -0.189578          -0.179852   \n",
       "4          -0.150091          -0.162592          -0.189578          -0.179852   \n",
       "5          -0.150091          -0.162592          -0.189578          -0.179852   \n",
       "\n",
       "   CAMEO_DEU_2015_9D  CAMEO_DEU_2015_9E  PRAEGENDE_JUGENDJAHRE_MOVEMENT  \\\n",
       "1          -0.192844          -0.089743                        0.530567   \n",
       "2          -0.192844          -0.089743                       -1.884775   \n",
       "3          -0.192844          -0.089743                        0.530567   \n",
       "4          -0.192844          -0.089743                        0.530567   \n",
       "5          -0.192844          -0.089743                        0.530567   \n",
       "\n",
       "   PRAEGENDE_JUGENDJAHRE_DECADE  CAMEO_INTL_2015_WEALTH  \\\n",
       "1                      1.098531                1.175734   \n",
       "2                      1.098531               -0.869674   \n",
       "3                     -0.267356               -1.551476   \n",
       "4                     -0.267356                0.493932   \n",
       "5                     -1.633243                1.175734   \n",
       "\n",
       "   CAMEO_INTL_2015_LIFE_STAGE  \n",
       "1                   -1.249157  \n",
       "2                    0.766845  \n",
       "3                   -0.577156  \n",
       "4                    0.094845  \n",
       "5                    0.766845  \n",
       "\n",
       "[5 rows x 196 columns]"
      ]
     },
     "execution_count": 211,
     "metadata": {},
     "output_type": "execute_result"
    }
   ],
   "source": [
    "df_scaled.head()"
   ]
  },
  {
   "cell_type": "code",
   "execution_count": null,
   "metadata": {
    "collapsed": true
   },
   "outputs": [],
   "source": []
  },
  {
   "cell_type": "markdown",
   "metadata": {},
   "source": [
    "### Discussion 2.1: Apply Feature Scaling\n",
    "\n",
    "I replaced all the missing values with the most frequent values  in columns using the Imputer method. Later, I scaled all the feature using the StandardScaler method."
   ]
  },
  {
   "cell_type": "markdown",
   "metadata": {},
   "source": [
    "### Step 2.2: Perform Dimensionality Reduction\n",
    "\n",
    "On your scaled data, you are now ready to apply dimensionality reduction techniques.\n",
    "\n",
    "- Use sklearn's [PCA](http://scikit-learn.org/stable/modules/generated/sklearn.decomposition.PCA.html) class to apply principal component analysis on the data, thus finding the vectors of maximal variance in the data. To start, you should not set any parameters (so all components are computed) or set a number of components that is at least half the number of features (so there's enough features to see the general trend in variability).\n",
    "- Check out the ratio of variance explained by each principal component as well as the cumulative variance explained. Try plotting the cumulative or sequential values using matplotlib's [`plot()`](https://matplotlib.org/api/_as_gen/matplotlib.pyplot.plot.html) function. Based on what you find, select a value for the number of transformed features you'll retain for the clustering part of the project.\n",
    "- Once you've made a choice for the number of components to keep, make sure you re-fit a PCA instance to perform the decided-on transformation."
   ]
  },
  {
   "cell_type": "code",
   "execution_count": 161,
   "metadata": {
    "collapsed": true
   },
   "outputs": [],
   "source": [
    "# Apply PCA to the data.\n",
    "pca=PCA()\n",
    "pca_below30= pca.fit_transform(df_scaled)"
   ]
  },
  {
   "cell_type": "code",
   "execution_count": 162,
   "metadata": {
    "collapsed": true
   },
   "outputs": [],
   "source": [
    "# Investigate the variance accounted for by each principal component.\n",
    "\n",
    "def scree_plot(pca):\n",
    "    '''\n",
    "    Creates a scree plot associated with the principal components \n",
    "    \n",
    "    INPUT: pca - the result of instantian of PCA in scikit learn\n",
    "            \n",
    "    OUTPUT:\n",
    "            None\n",
    "    '''\n",
    "    num_components=len(pca.explained_variance_ratio_)\n",
    "    ind = np.arange(num_components)\n",
    "    vals = pca.explained_variance_ratio_\n",
    " \n",
    "    plt.figure(figsize=(10, 6))\n",
    "    ax = plt.subplot(111)\n",
    "    cumvals = np.cumsum(vals)\n",
    "    ax.bar(ind, vals)\n",
    "    ax.plot(ind, cumvals)\n",
    " \n",
    "    ax.xaxis.set_tick_params(width=0)\n",
    "    ax.yaxis.set_tick_params(width=2, length=12)\n",
    " \n",
    "    ax.set_xlabel(\"Principal Component\")\n",
    "    ax.set_ylabel(\"Variance Explained (%)\")\n",
    "    plt.title('Explained Variance Per Principal Component')"
   ]
  },
  {
   "cell_type": "code",
   "execution_count": 163,
   "metadata": {},
   "outputs": [
    {
     "data": {
      "image/png": "[encoded data removed]",
      "text/plain": [
       "<matplotlib.figure.Figure at 0x7fa882e0b390>"
      ]
     },
     "metadata": {},
     "output_type": "display_data"
    }
   ],
   "source": [
    "scree_plot(pca)"
   ]
  },
  {
   "cell_type": "code",
   "execution_count": 164,
   "metadata": {
    "collapsed": true
   },
   "outputs": [],
   "source": [
    "# Re-apply PCA to the data while selecting for number of components to retain.\n",
    "pca100=PCA(n_components=100)\n",
    "pca100_below30=pca100.fit_transform(df_scaled)"
   ]
  },
  {
   "cell_type": "code",
   "execution_count": 165,
   "metadata": {},
   "outputs": [
    {
     "data": {
      "image/png": "[encoded data removed]",
      "text/plain": [
       "<matplotlib.figure.Figure at 0x7fa88df6fd30>"
      ]
     },
     "metadata": {},
     "output_type": "display_data"
    }
   ],
   "source": [
    "scree_plot(pca100)"
   ]
  },
  {
   "cell_type": "code",
   "execution_count": null,
   "metadata": {
    "collapsed": true
   },
   "outputs": [],
   "source": []
  },
  {
   "cell_type": "markdown",
   "metadata": {},
   "source": [
    "### Discussion 2.2: Perform Dimensionality Reduction\n",
    "\n",
    "(Double-click this cell and replace this text with your own text, reporting your findings and decisions regarding dimensionality reduction. How many principal components / transformed features are you retaining for the next step of the analysis?)\n",
    "\n",
    "There are around 200 principal componets in the first chart. I am retaining 100 components. These 100 components will given me nearly 85% of total variance (It can be seen by the second chart)."
   ]
  },
  {
   "cell_type": "markdown",
   "metadata": {},
   "source": [
    "### Step 2.3: Interpret Principal Components\n",
    "\n",
    "Now that we have our transformed principal components, it's a nice idea to check out the weight of each variable on the first few components to see if they can be interpreted in some fashion.\n",
    "\n",
    "As a reminder, each principal component is a unit vector that points in the direction of highest variance (after accounting for the variance captured by earlier principal components). The further a weight is from zero, the more the principal component is in the direction of the corresponding feature. If two features have large weights of the same sign (both positive or both negative), then increases in one tend expect to be associated with increases in the other. To contrast, features with different signs can be expected to show a negative correlation: increases in one variable should result in a decrease in the other.\n",
    "\n",
    "- To investigate the features, you should map each weight to their corresponding feature name, then sort the features according to weight. The most interesting features for each principal component, then, will be those at the beginning and end of the sorted list. Use the data dictionary document to help you understand these most prominent features, their relationships, and what a positive or negative value on the principal component might indicate.\n",
    "- You should investigate and interpret feature associations from the first three principal components in this substep. To help facilitate this, you should write a function that you can call at any time to print the sorted list of feature weights, for the *i*-th principal component. This might come in handy in the next step of the project, when you interpret the tendencies of the discovered clusters."
   ]
  },
  {
   "cell_type": "code",
   "execution_count": 166,
   "metadata": {
    "collapsed": true
   },
   "outputs": [],
   "source": [
    "def PCA_weights(pca,n):\n",
    "    weights_df=pd.DataFrame(pca.components_,columns=list(df_scaled.columns)).iloc[n]\n",
    "    weights_df.sort_values(ascending=False, inplace=True)\n",
    "    return weights_df"
   ]
  },
  {
   "cell_type": "code",
   "execution_count": 167,
   "metadata": {},
   "outputs": [
    {
     "data": {
      "text/plain": [
       "LP_STATUS_GROB_1.0                0.189645\n",
       "HH_EINKOMMEN_SCORE                0.180054\n",
       "CAMEO_INTL_2015_WEALTH            0.178418\n",
       "PLZ8_ANTG3                        0.178242\n",
       "PLZ8_ANTG4                        0.172803\n",
       "PLZ8_BAUMAX                       0.169635\n",
       "ORTSGR_KLS9                       0.152856\n",
       "EWDICHTE                          0.151041\n",
       "FINANZ_HAUSBAUER                  0.146830\n",
       "KBA05_ANTG4                       0.126500\n",
       "LP_STATUS_FEIN_1.0                0.125616\n",
       "PLZ8_ANTG2                        0.122502\n",
       "KBA05_ANTG3                       0.113831\n",
       "ANZ_HAUSHALTE_AKTIV               0.113527\n",
       "ARBEIT                            0.111035\n",
       "CAMEO_DEUG_2015_9                 0.110298\n",
       "LP_STATUS_FEIN_2.0                0.109176\n",
       "FINANZTYP_1                       0.105335\n",
       "RELAT_AB                          0.105111\n",
       "FINANZ_SPARER                     0.103846\n",
       "PRAEGENDE_JUGENDJAHRE_MOVEMENT    0.100843\n",
       "LP_FAMILIE_GROB_1.0               0.098394\n",
       "LP_FAMILIE_FEIN_1.0               0.098394\n",
       "CAMEO_DEUG_2015_8                 0.090031\n",
       "SEMIO_PFLICHT                     0.074166\n",
       "ZABEOTYP_5                        0.072199\n",
       "SEMIO_REL                         0.070397\n",
       "PRAEGENDE_JUGENDJAHRE_DECADE      0.067648\n",
       "GEBAEUDETYP_3.0                   0.066489\n",
       "CAMEO_DEU_2015_8A                 0.061395\n",
       "                                    ...   \n",
       "NATIONALITAET_KZ_1.0             -0.062364\n",
       "ONLINE_AFFINITAET                -0.062747\n",
       "CAMEO_DEUG_2015_3                -0.063766\n",
       "CAMEO_DEUG_2015_4                -0.071216\n",
       "FINANZTYP_2                      -0.072122\n",
       "ALTERSKATEGORIE_GROB             -0.073210\n",
       "FINANZ_VORSORGER                 -0.074522\n",
       "LP_FAMILIE_GROB_5.0              -0.078973\n",
       "CAMEO_DEUG_2015_2                -0.085688\n",
       "GEBAEUDETYP_1.0                  -0.087276\n",
       "BALLRAUM                         -0.095027\n",
       "ANZ_PERSONEN                     -0.095092\n",
       "ZABEOTYP_1                       -0.095213\n",
       "GEBAEUDETYP_RASTER               -0.096254\n",
       "GREEN_AVANTGARDE                 -0.100843\n",
       "CAMEO_INTL_2015_LIFE_STAGE       -0.105334\n",
       "LP_STATUS_FEIN_9.0               -0.107025\n",
       "LP_STATUS_GROB_4.0               -0.108464\n",
       "LP_STATUS_FEIN_10.0              -0.110842\n",
       "LP_STATUS_GROB_5.0               -0.110842\n",
       "INNENSTADT                       -0.125609\n",
       "PLZ8_GBZ                         -0.130738\n",
       "LP_LEBENSPHASE_GROB              -0.130895\n",
       "KONSUMNAEHE                      -0.134592\n",
       "LP_LEBENSPHASE_FEIN              -0.143238\n",
       "KBA05_ANTG1                      -0.174983\n",
       "KBA05_GBZ                        -0.176095\n",
       "PLZ8_ANTG1                       -0.179446\n",
       "FINANZ_MINIMALIST                -0.182117\n",
       "MOBI_REGIO                       -0.182611\n",
       "Name: 0, Length: 196, dtype: float64"
      ]
     },
     "execution_count": 167,
     "metadata": {},
     "output_type": "execute_result"
    }
   ],
   "source": [
    "# Map weights for the first principal component to corresponding feature names\n",
    "# and then print the linked values, sorted by weight.\n",
    "PCA_weights(pca100,0)\n"
   ]
  },
  {
   "cell_type": "code",
   "execution_count": 168,
   "metadata": {},
   "outputs": [
    {
     "data": {
      "text/plain": [
       "ALTERSKATEGORIE_GROB            0.236439\n",
       "FINANZ_VORSORGER                0.222327\n",
       "ZABEOTYP_3                      0.199487\n",
       "SEMIO_ERL                       0.180912\n",
       "SEMIO_LUST                      0.165016\n",
       "RETOURTYP_BK_S                  0.154953\n",
       "W_KEIT_KIND_HH                  0.123082\n",
       "CJT_GESAMTTYP_2.0               0.110642\n",
       "FINANZ_MINIMALIST               0.098668\n",
       "FINANZTYP_5                     0.098312\n",
       "FINANZTYP_2                     0.095726\n",
       "LP_STATUS_FEIN_1.0              0.089008\n",
       "FINANZ_HAUSBAUER                0.077466\n",
       "SHOPPER_TYP_3.0                 0.075645\n",
       "CJT_GESAMTTYP_1.0               0.071641\n",
       "SEMIO_KRIT                      0.071546\n",
       "NATIONALITAET_KZ_1.0            0.071425\n",
       "FINANZTYP_6                     0.068608\n",
       "LP_FAMILIE_GROB_1.0             0.060497\n",
       "LP_FAMILIE_FEIN_1.0             0.060497\n",
       "GFK_URLAUBERTYP_4.0             0.058238\n",
       "EWDICHTE                        0.056321\n",
       "WOHNDAUER_2008                  0.055750\n",
       "ORTSGR_KLS9                     0.055341\n",
       "PLZ8_ANTG3                      0.054388\n",
       "SEMIO_KAEM                      0.054139\n",
       "PLZ8_ANTG4                      0.053405\n",
       "LP_STATUS_FEIN_3.0              0.051191\n",
       "PLZ8_BAUMAX                     0.049790\n",
       "CAMEO_INTL_2015_WEALTH          0.046328\n",
       "                                  ...   \n",
       "NATIONALITAET_KZ_3.0           -0.049690\n",
       "KBA05_GBZ                      -0.049868\n",
       "LP_LEBENSPHASE_GROB            -0.049882\n",
       "PLZ8_ANTG1                     -0.053349\n",
       "ZABEOTYP_1                     -0.053927\n",
       "CJT_GESAMTTYP_4.0              -0.055150\n",
       "HEALTH_TYP                     -0.056094\n",
       "SEMIO_SOZ                      -0.062331\n",
       "ANZ_PERSONEN                   -0.066635\n",
       "LP_FAMILIE_GROB_4.0            -0.069003\n",
       "FINANZTYP_3                    -0.072523\n",
       "GFK_URLAUBERTYP_9.0            -0.073958\n",
       "LP_STATUS_FEIN_5.0             -0.080046\n",
       "FINANZTYP_4                    -0.087626\n",
       "ZABEOTYP_5                     -0.092730\n",
       "LP_STATUS_FEIN_2.0             -0.099825\n",
       "ZABEOTYP_4                     -0.108900\n",
       "SEMIO_MAT                      -0.132318\n",
       "SEMIO_FAM                      -0.135617\n",
       "FINANZTYP_1                    -0.138385\n",
       "ONLINE_AFFINITAET              -0.159757\n",
       "SEMIO_KULT                     -0.165929\n",
       "SEMIO_RAT                      -0.171959\n",
       "FINANZ_ANLEGER                 -0.207335\n",
       "SEMIO_PFLICHT                  -0.209626\n",
       "SEMIO_TRADV                    -0.209787\n",
       "FINANZ_UNAUFFAELLIGER          -0.216862\n",
       "SEMIO_REL                      -0.217928\n",
       "FINANZ_SPARER                  -0.232793\n",
       "PRAEGENDE_JUGENDJAHRE_DECADE   -0.234158\n",
       "Name: 1, Length: 196, dtype: float64"
      ]
     },
     "execution_count": 168,
     "metadata": {},
     "output_type": "execute_result"
    }
   ],
   "source": [
    "# Map weights for the second principal component to corresponding feature names\n",
    "# and then print the linked values, sorted by weight.\n",
    "PCA_weights(pca100,1)"
   ]
  },
  {
   "cell_type": "code",
   "execution_count": 169,
   "metadata": {},
   "outputs": [
    {
     "data": {
      "text/plain": [
       "SEMIO_VERT                        0.313387\n",
       "SEMIO_FAM                         0.254433\n",
       "SEMIO_SOZ                         0.253602\n",
       "SEMIO_KULT                        0.246048\n",
       "FINANZTYP_5                       0.138048\n",
       "FINANZ_MINIMALIST                 0.129736\n",
       "ZABEOTYP_1                        0.121300\n",
       "SHOPPER_TYP_0.0                   0.119934\n",
       "SEMIO_REL                         0.110359\n",
       "GREEN_AVANTGARDE                  0.092869\n",
       "SEMIO_MAT                         0.087530\n",
       "ORTSGR_KLS9                       0.077982\n",
       "EWDICHTE                          0.077155\n",
       "RETOURTYP_BK_S                    0.072348\n",
       "LP_STATUS_GROB_5.0                0.067841\n",
       "LP_STATUS_FEIN_10.0               0.067841\n",
       "PLZ8_BAUMAX                       0.058793\n",
       "PLZ8_ANTG4                        0.056898\n",
       "PLZ8_ANTG3                        0.056466\n",
       "SHOPPER_TYP_1.0                   0.051104\n",
       "LP_STATUS_FEIN_3.0                0.047406\n",
       "ZABEOTYP_6                        0.045728\n",
       "W_KEIT_KIND_HH                    0.045647\n",
       "FINANZ_VORSORGER                  0.045088\n",
       "RELAT_AB                          0.041404\n",
       "LP_STATUS_FEIN_1.0                0.041235\n",
       "PLZ8_ANTG2                        0.040988\n",
       "ARBEIT                            0.039213\n",
       "LP_STATUS_GROB_3.0                0.037070\n",
       "GEBAEUDETYP_3.0                   0.032332\n",
       "                                    ...   \n",
       "LP_FAMILIE_FEIN_4.0              -0.037317\n",
       "PLZ8_GBZ                         -0.038178\n",
       "ZABEOTYP_3                       -0.041321\n",
       "FINANZ_UNAUFFAELLIGER            -0.043695\n",
       "GEBAEUDETYP_RASTER               -0.044152\n",
       "KKK                              -0.046337\n",
       "HH_EINKOMMEN_SCORE               -0.047431\n",
       "SHOPPER_TYP_3.0                  -0.047859\n",
       "PLZ8_ANTG1                       -0.052101\n",
       "LP_FAMILIE_GROB_3.0              -0.052124\n",
       "PRAEGENDE_JUGENDJAHRE_DECADE     -0.052838\n",
       "WOHNLAGE                         -0.054020\n",
       "FINANZ_SPARER                    -0.054722\n",
       "KONSUMNAEHE                      -0.054928\n",
       "BALLRAUM                         -0.060712\n",
       "ZABEOTYP_4                       -0.061752\n",
       "FINANZ_HAUSBAUER                 -0.063813\n",
       "INNENSTADT                       -0.067560\n",
       "LP_STATUS_FEIN_2.0               -0.078502\n",
       "LP_STATUS_FEIN_4.0               -0.082444\n",
       "SHOPPER_TYP_2.0                  -0.091054\n",
       "PRAEGENDE_JUGENDJAHRE_MOVEMENT   -0.092869\n",
       "FINANZTYP_1                      -0.099625\n",
       "SEMIO_RAT                        -0.149605\n",
       "FINANZ_ANLEGER                   -0.155525\n",
       "SEMIO_ERL                        -0.205108\n",
       "SEMIO_KRIT                       -0.264356\n",
       "SEMIO_DOM                        -0.272811\n",
       "SEMIO_KAEM                       -0.305068\n",
       "ANREDE_KZ                        -0.337131\n",
       "Name: 2, Length: 196, dtype: float64"
      ]
     },
     "execution_count": 169,
     "metadata": {},
     "output_type": "execute_result"
    }
   ],
   "source": [
    "# Map weights for the third principal component to corresponding feature names\n",
    "# and then print the linked values, sorted by weight.\n",
    "\n",
    "PCA_weights(pca100,2)"
   ]
  },
  {
   "cell_type": "markdown",
   "metadata": {},
   "source": [
    "### Discussion 2.3: Interpret Principal Components\n",
    "\n",
    "(Double-click this cell and replace this text with your own text, reporting your observations from detailed investigation of the first few principal components generated. Can we interpret positive and negative values from them in a meaningful way?)\n",
    "\n",
    "1) from the first principal component, following features can be predicted:\n",
    "- from positive weights:\n",
    "\n",
    "    * LP_STATUS_GROB_1.0 (Social Status: low-income earners)                \n",
    "    * HH_EINKOMMEN_SCORE (Estimated household net income)          \n",
    "    \n",
    "\n",
    "- from negative weights:\n",
    "    * FINANZ_MINIMALIST (Financial typology: low financial interest)            \n",
    "    * MOBI_REGIO (Movement patterns)          \n",
    "    \n",
    "    \n",
    "**We can notice that first component has strong relationship with social status, estimated household income, financial typology and movement patterns**\n",
    "\n",
    "\n",
    "2) from the second principal component, following features can be predicted:\n",
    "- from positive weights:\n",
    "    * ALTERSKATEGORIE_GROB (Estimated age)\n",
    "    * FINANZ_VORSORGER (Financial typology: be prepared)      \n",
    "\n",
    "\n",
    "- from negative weights:\n",
    "    * FINANZ_SPARER (Financial typology: money-saver)                  \n",
    "    * PRAEGENDE_JUGENDJAHRE_DECADE (movement of person's youth: decade)\n",
    "    \n",
    "\n",
    "**We can notice that the second component has strong relationship with age, financial typology and movement of youth**\n",
    "\n",
    "\n",
    " \n",
    "3) from the third principal component, following features can be predicted:\n",
    "- from positive weights:\n",
    "    * SEMIO_VERT (Personality typology: dreamful)                     \n",
    "    * SEMIO_FAM (Personality typology: family-minded)\n",
    "            \n",
    "\n",
    "- from negative weights:\n",
    "    * SEMIO_KAEM (Personality typology: combative attitude)\n",
    "    * ANREDE_KZ (Gender)\n",
    "    \n",
    "\n",
    "**We can notice that third component has strong relationship with personality typology and gender.**"
   ]
  },
  {
   "cell_type": "markdown",
   "metadata": {},
   "source": [
    "## Step 3: Clustering\n",
    "\n",
    "### Step 3.1: Apply Clustering to General Population\n",
    "\n",
    "You've assessed and cleaned the demographics data, then scaled and transformed them. Now, it's time to see how the data clusters in the principal components space. In this substep, you will apply k-means clustering to the dataset and use the average within-cluster distances from each point to their assigned cluster's centroid to decide on a number of clusters to keep.\n",
    "\n",
    "- Use sklearn's [KMeans](http://scikit-learn.org/stable/modules/generated/sklearn.cluster.KMeans.html#sklearn.cluster.KMeans) class to perform k-means clustering on the PCA-transformed data.\n",
    "- Then, compute the average difference from each point to its assigned cluster's center. **Hint**: The KMeans object's `.score()` method might be useful here, but note that in sklearn, scores tend to be defined so that larger is better. Try applying it to a small, toy dataset, or use an internet search to help your understanding.\n",
    "- Perform the above two steps for a number of different cluster counts. You can then see how the average distance decreases with an increasing number of clusters. However, each additional cluster provides a smaller net benefit. Use this fact to select a final number of clusters in which to group the data. **Warning**: because of the large size of the dataset, it can take a long time for the algorithm to resolve. The more clusters to fit, the longer the algorithm will take. You should test for cluster counts through at least 10 clusters to get the full picture, but you shouldn't need to test for a number of clusters above about 30.\n",
    "- Once you've selected a final number of clusters to use, re-fit a KMeans instance to perform the clustering operation. Make sure that you also obtain the cluster assignments for the general demographics data, since you'll be using them in the final Step 3.3."
   ]
  },
  {
   "cell_type": "code",
   "execution_count": 291,
   "metadata": {},
   "outputs": [],
   "source": [
    "from sklearn.cluster import KMeans"
   ]
  },
  {
   "cell_type": "code",
   "execution_count": 171,
   "metadata": {},
   "outputs": [
    {
     "name": "stdout",
     "output_type": "stream",
     "text": [
      "Score added for k=1 center\n",
      "Score added for k=3 center\n",
      "Score added for k=5 center\n",
      "Score added for k=7 center\n",
      "Score added for k=9 center\n",
      "Score added for k=11 center\n",
      "Score added for k=13 center\n",
      "Score added for k=15 center\n",
      "Score added for k=17 center\n",
      "Score added for k=19 center\n"
     ]
    }
   ],
   "source": [
    "\n",
    "# Over a number of different cluster counts...\n",
    "\n",
    "\n",
    "    # run k-means clustering on the data and...\n",
    "    \n",
    "    \n",
    "    # compute the average within-cluster distances.\n",
    "    \n",
    "centers=np.arange(1,20,2)\n",
    "score=[]\n",
    "\n",
    "for k in centers:\n",
    "    score.append(KMeans(k).fit(pca100_below30).score(pca100_below30)*-1)\n",
    "    print(\"Score added for k={} center\".format(k))"
   ]
  },
  {
   "cell_type": "code",
   "execution_count": 172,
   "metadata": {},
   "outputs": [
    {
     "data": {
      "text/plain": [
       "Text(0,0.5,'SSE')"
      ]
     },
     "execution_count": 172,
     "metadata": {},
     "output_type": "execute_result"
    },
    {
     "data": {
      "image/png": "[encoded data removed]",
      "text/plain": [
       "<matplotlib.figure.Figure at 0x7fa88df6c1d0>"
      ]
     },
     "metadata": {},
     "output_type": "display_data"
    }
   ],
   "source": [
    "plt.plot(centers, score, linestyle='--', marker='o', color='b')\n",
    "plt.xlabel('K')\n",
    "plt.ylabel('SSE')"
   ]
  },
  {
   "cell_type": "code",
   "execution_count": 245,
   "metadata": {},
   "outputs": [],
   "source": [
    "# Re-fit the k-means model with the selected number of clusters and obtain\n",
    "# cluster predictions for the general population demographics data.\n",
    "model=KMeans(14)\n",
    "pred_demographics=model.fit(pca100_below30).predict(pca100_below30)"
   ]
  },
  {
   "cell_type": "code",
   "execution_count": null,
   "metadata": {},
   "outputs": [],
   "source": []
  },
  {
   "cell_type": "markdown",
   "metadata": {},
   "source": [
    "### Discussion 3.1: Apply Clustering to General Population\n",
    "\n",
    "(Double-click this cell and replace this text with your own text, reporting your findings and decisions regarding clustering. Into how many clusters have you decided to segment the population?)\n",
    "\n",
    "In order to determine the best value for K, I relid on elbow method. It is difficult to find the elbow in the graph so I going with k=14 as of now."
   ]
  },
  {
   "cell_type": "markdown",
   "metadata": {},
   "source": [
    "### Step 3.2: Apply All Steps to the Customer Data\n",
    "\n",
    "Now that you have clusters and cluster centers for the general population, it's time to see how the customer data maps on to those clusters. Take care to not confuse this for re-fitting all of the models to the customer data. Instead, you're going to use the fits from the general population to clean, transform, and cluster the customer data. In the last step of the project, you will interpret how the general population fits apply to the customer data.\n",
    "\n",
    "- Don't forget when loading in the customers data, that it is semicolon (`;`) delimited.\n",
    "- Apply the same feature wrangling, selection, and engineering steps to the customer demographics using the `clean_data()` function you created earlier. (You can assume that the customer demographics data has similar meaning behind missing data patterns as the general demographics data.)\n",
    "- Use the sklearn objects from the general demographics data, and apply their transformations to the customers data. That is, you should not be using a `.fit()` or `.fit_transform()` method to re-fit the old objects, nor should you be creating new sklearn objects! Carry the data through the feature scaling, PCA, and clustering steps, obtaining cluster assignments for all of the data in the customer demographics data."
   ]
  },
  {
   "cell_type": "code",
   "execution_count": 294,
   "metadata": {},
   "outputs": [
    {
     "data": {
      "text/html": [
       "<div>\n",
       "<style scoped>\n",
       "    .dataframe tbody tr th:only-of-type {\n",
       "        vertical-align: middle;\n",
       "    }\n",
       "\n",
       "    .dataframe tbody tr th {\n",
       "        vertical-align: top;\n",
       "    }\n",
       "\n",
       "    .dataframe thead th {\n",
       "        text-align: right;\n",
       "    }\n",
       "</style>\n",
       "<table border=\"1\" class=\"dataframe\">\n",
       "  <thead>\n",
       "    <tr style=\"text-align: right;\">\n",
       "      <th></th>\n",
       "      <th>AGER_TYP</th>\n",
       "      <th>ALTERSKATEGORIE_GROB</th>\n",
       "      <th>ANREDE_KZ</th>\n",
       "      <th>CJT_GESAMTTYP</th>\n",
       "      <th>FINANZ_MINIMALIST</th>\n",
       "      <th>FINANZ_SPARER</th>\n",
       "      <th>FINANZ_VORSORGER</th>\n",
       "      <th>FINANZ_ANLEGER</th>\n",
       "      <th>FINANZ_UNAUFFAELLIGER</th>\n",
       "      <th>FINANZ_HAUSBAUER</th>\n",
       "      <th>...</th>\n",
       "      <th>PLZ8_ANTG1</th>\n",
       "      <th>PLZ8_ANTG2</th>\n",
       "      <th>PLZ8_ANTG3</th>\n",
       "      <th>PLZ8_ANTG4</th>\n",
       "      <th>PLZ8_BAUMAX</th>\n",
       "      <th>PLZ8_HHZ</th>\n",
       "      <th>PLZ8_GBZ</th>\n",
       "      <th>ARBEIT</th>\n",
       "      <th>ORTSGR_KLS9</th>\n",
       "      <th>RELAT_AB</th>\n",
       "    </tr>\n",
       "  </thead>\n",
       "  <tbody>\n",
       "    <tr>\n",
       "      <th>0</th>\n",
       "      <td>2</td>\n",
       "      <td>4</td>\n",
       "      <td>1</td>\n",
       "      <td>5.0</td>\n",
       "      <td>5</td>\n",
       "      <td>1</td>\n",
       "      <td>5</td>\n",
       "      <td>1</td>\n",
       "      <td>2</td>\n",
       "      <td>2</td>\n",
       "      <td>...</td>\n",
       "      <td>3.0</td>\n",
       "      <td>3.0</td>\n",
       "      <td>1.0</td>\n",
       "      <td>0.0</td>\n",
       "      <td>1.0</td>\n",
       "      <td>5.0</td>\n",
       "      <td>5.0</td>\n",
       "      <td>1.0</td>\n",
       "      <td>2.0</td>\n",
       "      <td>1.0</td>\n",
       "    </tr>\n",
       "    <tr>\n",
       "      <th>1</th>\n",
       "      <td>-1</td>\n",
       "      <td>4</td>\n",
       "      <td>1</td>\n",
       "      <td>NaN</td>\n",
       "      <td>5</td>\n",
       "      <td>1</td>\n",
       "      <td>5</td>\n",
       "      <td>1</td>\n",
       "      <td>3</td>\n",
       "      <td>2</td>\n",
       "      <td>...</td>\n",
       "      <td>NaN</td>\n",
       "      <td>NaN</td>\n",
       "      <td>NaN</td>\n",
       "      <td>NaN</td>\n",
       "      <td>NaN</td>\n",
       "      <td>NaN</td>\n",
       "      <td>NaN</td>\n",
       "      <td>NaN</td>\n",
       "      <td>NaN</td>\n",
       "      <td>NaN</td>\n",
       "    </tr>\n",
       "    <tr>\n",
       "      <th>2</th>\n",
       "      <td>-1</td>\n",
       "      <td>4</td>\n",
       "      <td>2</td>\n",
       "      <td>2.0</td>\n",
       "      <td>5</td>\n",
       "      <td>1</td>\n",
       "      <td>5</td>\n",
       "      <td>1</td>\n",
       "      <td>4</td>\n",
       "      <td>4</td>\n",
       "      <td>...</td>\n",
       "      <td>2.0</td>\n",
       "      <td>3.0</td>\n",
       "      <td>3.0</td>\n",
       "      <td>1.0</td>\n",
       "      <td>3.0</td>\n",
       "      <td>3.0</td>\n",
       "      <td>2.0</td>\n",
       "      <td>3.0</td>\n",
       "      <td>5.0</td>\n",
       "      <td>3.0</td>\n",
       "    </tr>\n",
       "    <tr>\n",
       "      <th>3</th>\n",
       "      <td>1</td>\n",
       "      <td>4</td>\n",
       "      <td>1</td>\n",
       "      <td>2.0</td>\n",
       "      <td>5</td>\n",
       "      <td>1</td>\n",
       "      <td>5</td>\n",
       "      <td>2</td>\n",
       "      <td>1</td>\n",
       "      <td>2</td>\n",
       "      <td>...</td>\n",
       "      <td>3.0</td>\n",
       "      <td>2.0</td>\n",
       "      <td>1.0</td>\n",
       "      <td>0.0</td>\n",
       "      <td>1.0</td>\n",
       "      <td>3.0</td>\n",
       "      <td>4.0</td>\n",
       "      <td>1.0</td>\n",
       "      <td>3.0</td>\n",
       "      <td>1.0</td>\n",
       "    </tr>\n",
       "    <tr>\n",
       "      <th>4</th>\n",
       "      <td>-1</td>\n",
       "      <td>3</td>\n",
       "      <td>1</td>\n",
       "      <td>6.0</td>\n",
       "      <td>3</td>\n",
       "      <td>1</td>\n",
       "      <td>4</td>\n",
       "      <td>4</td>\n",
       "      <td>5</td>\n",
       "      <td>2</td>\n",
       "      <td>...</td>\n",
       "      <td>2.0</td>\n",
       "      <td>4.0</td>\n",
       "      <td>2.0</td>\n",
       "      <td>1.0</td>\n",
       "      <td>2.0</td>\n",
       "      <td>3.0</td>\n",
       "      <td>3.0</td>\n",
       "      <td>3.0</td>\n",
       "      <td>5.0</td>\n",
       "      <td>1.0</td>\n",
       "    </tr>\n",
       "  </tbody>\n",
       "</table>\n",
       "<p>5 rows × 85 columns</p>\n",
       "</div>"
      ],
      "text/plain": [
       "   AGER_TYP  ALTERSKATEGORIE_GROB  ANREDE_KZ  CJT_GESAMTTYP  \\\n",
       "0         2                     4          1            5.0   \n",
       "1        -1                     4          1            NaN   \n",
       "2        -1                     4          2            2.0   \n",
       "3         1                     4          1            2.0   \n",
       "4        -1                     3          1            6.0   \n",
       "\n",
       "   FINANZ_MINIMALIST  FINANZ_SPARER  FINANZ_VORSORGER  FINANZ_ANLEGER  \\\n",
       "0                  5              1                 5               1   \n",
       "1                  5              1                 5               1   \n",
       "2                  5              1                 5               1   \n",
       "3                  5              1                 5               2   \n",
       "4                  3              1                 4               4   \n",
       "\n",
       "   FINANZ_UNAUFFAELLIGER  FINANZ_HAUSBAUER    ...     PLZ8_ANTG1  PLZ8_ANTG2  \\\n",
       "0                      2                 2    ...            3.0         3.0   \n",
       "1                      3                 2    ...            NaN         NaN   \n",
       "2                      4                 4    ...            2.0         3.0   \n",
       "3                      1                 2    ...            3.0         2.0   \n",
       "4                      5                 2    ...            2.0         4.0   \n",
       "\n",
       "   PLZ8_ANTG3  PLZ8_ANTG4  PLZ8_BAUMAX  PLZ8_HHZ  PLZ8_GBZ  ARBEIT  \\\n",
       "0         1.0         0.0          1.0       5.0       5.0     1.0   \n",
       "1         NaN         NaN          NaN       NaN       NaN     NaN   \n",
       "2         3.0         1.0          3.0       3.0       2.0     3.0   \n",
       "3         1.0         0.0          1.0       3.0       4.0     1.0   \n",
       "4         2.0         1.0          2.0       3.0       3.0     3.0   \n",
       "\n",
       "   ORTSGR_KLS9  RELAT_AB  \n",
       "0          2.0       1.0  \n",
       "1          NaN       NaN  \n",
       "2          5.0       3.0  \n",
       "3          3.0       1.0  \n",
       "4          5.0       1.0  \n",
       "\n",
       "[5 rows x 85 columns]"
      ]
     },
     "execution_count": 294,
     "metadata": {},
     "output_type": "execute_result"
    }
   ],
   "source": [
    "# Load in the customer demographics data.\n",
    "customers = pd.read_csv('Udacity_CUSTOMERS_Subset.csv', delimiter=';')\n",
    "customers.head()"
   ]
  },
  {
   "cell_type": "code",
   "execution_count": 295,
   "metadata": {},
   "outputs": [],
   "source": [
    "# Apply preprocessing, feature transformation, and clustering from the general\n",
    "# demographics onto the customer data, obtaining cluster predictions for the\n",
    "# customer demographics data.\n",
    "\n",
    "#preprocessing\n",
    "cleaned_customers_less20, cleaned_customers_more20=clean_data(customers)\n"
   ]
  },
  {
   "cell_type": "code",
   "execution_count": 296,
   "metadata": {},
   "outputs": [
    {
     "data": {
      "text/html": [
       "<div>\n",
       "<style scoped>\n",
       "    .dataframe tbody tr th:only-of-type {\n",
       "        vertical-align: middle;\n",
       "    }\n",
       "\n",
       "    .dataframe tbody tr th {\n",
       "        vertical-align: top;\n",
       "    }\n",
       "\n",
       "    .dataframe thead th {\n",
       "        text-align: right;\n",
       "    }\n",
       "</style>\n",
       "<table border=\"1\" class=\"dataframe\">\n",
       "  <thead>\n",
       "    <tr style=\"text-align: right;\">\n",
       "      <th></th>\n",
       "      <th>ALTERSKATEGORIE_GROB</th>\n",
       "      <th>ANREDE_KZ</th>\n",
       "      <th>FINANZ_MINIMALIST</th>\n",
       "      <th>FINANZ_SPARER</th>\n",
       "      <th>FINANZ_VORSORGER</th>\n",
       "      <th>FINANZ_ANLEGER</th>\n",
       "      <th>FINANZ_UNAUFFAELLIGER</th>\n",
       "      <th>FINANZ_HAUSBAUER</th>\n",
       "      <th>GREEN_AVANTGARDE</th>\n",
       "      <th>HEALTH_TYP</th>\n",
       "      <th>...</th>\n",
       "      <th>CAMEO_DEU_2015_8D</th>\n",
       "      <th>CAMEO_DEU_2015_9A</th>\n",
       "      <th>CAMEO_DEU_2015_9B</th>\n",
       "      <th>CAMEO_DEU_2015_9C</th>\n",
       "      <th>CAMEO_DEU_2015_9D</th>\n",
       "      <th>CAMEO_DEU_2015_9E</th>\n",
       "      <th>PRAEGENDE_JUGENDJAHRE_MOVEMENT</th>\n",
       "      <th>PRAEGENDE_JUGENDJAHRE_DECADE</th>\n",
       "      <th>CAMEO_INTL_2015_WEALTH</th>\n",
       "      <th>CAMEO_INTL_2015_LIFE_STAGE</th>\n",
       "    </tr>\n",
       "  </thead>\n",
       "  <tbody>\n",
       "    <tr>\n",
       "      <th>0</th>\n",
       "      <td>4.0</td>\n",
       "      <td>0</td>\n",
       "      <td>5</td>\n",
       "      <td>1</td>\n",
       "      <td>5</td>\n",
       "      <td>1</td>\n",
       "      <td>2</td>\n",
       "      <td>2</td>\n",
       "      <td>1</td>\n",
       "      <td>1.0</td>\n",
       "      <td>...</td>\n",
       "      <td>0</td>\n",
       "      <td>0</td>\n",
       "      <td>0</td>\n",
       "      <td>0</td>\n",
       "      <td>0</td>\n",
       "      <td>0</td>\n",
       "      <td>0.0</td>\n",
       "      <td>2.0</td>\n",
       "      <td>1.0</td>\n",
       "      <td>3.0</td>\n",
       "    </tr>\n",
       "    <tr>\n",
       "      <th>2</th>\n",
       "      <td>4.0</td>\n",
       "      <td>1</td>\n",
       "      <td>5</td>\n",
       "      <td>1</td>\n",
       "      <td>5</td>\n",
       "      <td>1</td>\n",
       "      <td>4</td>\n",
       "      <td>4</td>\n",
       "      <td>1</td>\n",
       "      <td>2.0</td>\n",
       "      <td>...</td>\n",
       "      <td>0</td>\n",
       "      <td>0</td>\n",
       "      <td>0</td>\n",
       "      <td>0</td>\n",
       "      <td>0</td>\n",
       "      <td>0</td>\n",
       "      <td>0.0</td>\n",
       "      <td>2.0</td>\n",
       "      <td>3.0</td>\n",
       "      <td>4.0</td>\n",
       "    </tr>\n",
       "    <tr>\n",
       "      <th>3</th>\n",
       "      <td>4.0</td>\n",
       "      <td>0</td>\n",
       "      <td>5</td>\n",
       "      <td>1</td>\n",
       "      <td>5</td>\n",
       "      <td>2</td>\n",
       "      <td>1</td>\n",
       "      <td>2</td>\n",
       "      <td>0</td>\n",
       "      <td>2.0</td>\n",
       "      <td>...</td>\n",
       "      <td>0</td>\n",
       "      <td>0</td>\n",
       "      <td>0</td>\n",
       "      <td>0</td>\n",
       "      <td>0</td>\n",
       "      <td>0</td>\n",
       "      <td>1.0</td>\n",
       "      <td>1.0</td>\n",
       "      <td>2.0</td>\n",
       "      <td>4.0</td>\n",
       "    </tr>\n",
       "    <tr>\n",
       "      <th>4</th>\n",
       "      <td>3.0</td>\n",
       "      <td>0</td>\n",
       "      <td>3</td>\n",
       "      <td>1</td>\n",
       "      <td>4</td>\n",
       "      <td>4</td>\n",
       "      <td>5</td>\n",
       "      <td>2</td>\n",
       "      <td>0</td>\n",
       "      <td>3.0</td>\n",
       "      <td>...</td>\n",
       "      <td>0</td>\n",
       "      <td>0</td>\n",
       "      <td>0</td>\n",
       "      <td>0</td>\n",
       "      <td>0</td>\n",
       "      <td>0</td>\n",
       "      <td>1.0</td>\n",
       "      <td>4.0</td>\n",
       "      <td>4.0</td>\n",
       "      <td>1.0</td>\n",
       "    </tr>\n",
       "    <tr>\n",
       "      <th>5</th>\n",
       "      <td>3.0</td>\n",
       "      <td>0</td>\n",
       "      <td>5</td>\n",
       "      <td>1</td>\n",
       "      <td>5</td>\n",
       "      <td>1</td>\n",
       "      <td>2</td>\n",
       "      <td>3</td>\n",
       "      <td>1</td>\n",
       "      <td>3.0</td>\n",
       "      <td>...</td>\n",
       "      <td>0</td>\n",
       "      <td>0</td>\n",
       "      <td>0</td>\n",
       "      <td>0</td>\n",
       "      <td>0</td>\n",
       "      <td>0</td>\n",
       "      <td>0.0</td>\n",
       "      <td>2.0</td>\n",
       "      <td>3.0</td>\n",
       "      <td>4.0</td>\n",
       "    </tr>\n",
       "  </tbody>\n",
       "</table>\n",
       "<p>5 rows × 195 columns</p>\n",
       "</div>"
      ],
      "text/plain": [
       "   ALTERSKATEGORIE_GROB  ANREDE_KZ  FINANZ_MINIMALIST  FINANZ_SPARER  \\\n",
       "0                   4.0          0                  5              1   \n",
       "2                   4.0          1                  5              1   \n",
       "3                   4.0          0                  5              1   \n",
       "4                   3.0          0                  3              1   \n",
       "5                   3.0          0                  5              1   \n",
       "\n",
       "   FINANZ_VORSORGER  FINANZ_ANLEGER  FINANZ_UNAUFFAELLIGER  FINANZ_HAUSBAUER  \\\n",
       "0                 5               1                      2                 2   \n",
       "2                 5               1                      4                 4   \n",
       "3                 5               2                      1                 2   \n",
       "4                 4               4                      5                 2   \n",
       "5                 5               1                      2                 3   \n",
       "\n",
       "   GREEN_AVANTGARDE  HEALTH_TYP             ...              \\\n",
       "0                 1         1.0             ...               \n",
       "2                 1         2.0             ...               \n",
       "3                 0         2.0             ...               \n",
       "4                 0         3.0             ...               \n",
       "5                 1         3.0             ...               \n",
       "\n",
       "   CAMEO_DEU_2015_8D  CAMEO_DEU_2015_9A  CAMEO_DEU_2015_9B  CAMEO_DEU_2015_9C  \\\n",
       "0                  0                  0                  0                  0   \n",
       "2                  0                  0                  0                  0   \n",
       "3                  0                  0                  0                  0   \n",
       "4                  0                  0                  0                  0   \n",
       "5                  0                  0                  0                  0   \n",
       "\n",
       "   CAMEO_DEU_2015_9D  CAMEO_DEU_2015_9E  PRAEGENDE_JUGENDJAHRE_MOVEMENT  \\\n",
       "0                  0                  0                             0.0   \n",
       "2                  0                  0                             0.0   \n",
       "3                  0                  0                             1.0   \n",
       "4                  0                  0                             1.0   \n",
       "5                  0                  0                             0.0   \n",
       "\n",
       "   PRAEGENDE_JUGENDJAHRE_DECADE  CAMEO_INTL_2015_WEALTH  \\\n",
       "0                           2.0                     1.0   \n",
       "2                           2.0                     3.0   \n",
       "3                           1.0                     2.0   \n",
       "4                           4.0                     4.0   \n",
       "5                           2.0                     3.0   \n",
       "\n",
       "   CAMEO_INTL_2015_LIFE_STAGE  \n",
       "0                         3.0  \n",
       "2                         4.0  \n",
       "3                         4.0  \n",
       "4                         1.0  \n",
       "5                         4.0  \n",
       "\n",
       "[5 rows x 195 columns]"
      ]
     },
     "execution_count": 296,
     "metadata": {},
     "output_type": "execute_result"
    }
   ],
   "source": [
    "cleaned_customers_less20.head()"
   ]
  },
  {
   "cell_type": "code",
   "execution_count": 297,
   "metadata": {},
   "outputs": [
    {
     "data": {
      "text/plain": [
       "{'GEBAEUDETYP_5.0'}"
      ]
     },
     "execution_count": 297,
     "metadata": {},
     "output_type": "execute_result"
    }
   ],
   "source": [
    "#unavailable columns in customer dataframe which are present in the demographic dataframe\n",
    "set(df_scaled.columns)-set(cleaned_customers_less20.columns)"
   ]
  },
  {
   "cell_type": "code",
   "execution_count": 298,
   "metadata": {},
   "outputs": [],
   "source": [
    "#adding the above columns in cleaned_customer_less20 dataframe\n",
    "cleaned_customers_less20['GEBAEUDETYP_5.0']=0"
   ]
  },
  {
   "cell_type": "code",
   "execution_count": 299,
   "metadata": {},
   "outputs": [
    {
     "data": {
      "text/plain": [
       "(141640, 196)"
      ]
     },
     "execution_count": 299,
     "metadata": {},
     "output_type": "execute_result"
    }
   ],
   "source": [
    "cleaned_customers_less20.shape"
   ]
  },
  {
   "cell_type": "code",
   "execution_count": 300,
   "metadata": {},
   "outputs": [],
   "source": [
    "#imputation\n",
    "imputed_customers=impute.transform(cleaned_customers_less20)\n",
    "imputed_customers=pd.DataFrame(imputed_customers)\n",
    "imputed_customers.columns=cleaned_customers_less20.columns\n",
    "imputed_customers.index= cleaned_customers_less20.index"
   ]
  },
  {
   "cell_type": "code",
   "execution_count": 301,
   "metadata": {},
   "outputs": [
    {
     "data": {
      "text/plain": [
       "0"
      ]
     },
     "execution_count": 301,
     "metadata": {},
     "output_type": "execute_result"
    }
   ],
   "source": [
    "imputed_customers.isnull().sum().sum()"
   ]
  },
  {
   "cell_type": "code",
   "execution_count": 302,
   "metadata": {},
   "outputs": [],
   "source": [
    "#scaling\n",
    "scaled_customers=scaler.transform(imputed_customers)\n",
    "scaled_customers=pd.DataFrame(scaled_customers, columns=imputed_customers.columns, index=imputed_customers.index)"
   ]
  },
  {
   "cell_type": "code",
   "execution_count": 303,
   "metadata": {},
   "outputs": [],
   "source": [
    "#pca\n",
    "pca_customers=pca100.transform(scaled_customers)"
   ]
  },
  {
   "cell_type": "code",
   "execution_count": 306,
   "metadata": {},
   "outputs": [],
   "source": [
    "#predictions\n",
    "pred_customers=model.predict(pca_customers)"
   ]
  },
  {
   "cell_type": "markdown",
   "metadata": {},
   "source": [
    "### Step 3.3: Compare Customer Data to Demographics Data\n",
    "\n",
    "At this point, you have clustered data based on demographics of the general population of Germany, and seen how the customer data for a mail-order sales company maps onto those demographic clusters. In this final substep, you will compare the two cluster distributions to see where the strongest customer base for the company is.\n",
    "\n",
    "Consider the proportion of persons in each cluster for the general population, and the proportions for the customers. If we think the company's customer base to be universal, then the cluster assignment proportions should be fairly similar between the two. If there are only particular segments of the population that are interested in the company's products, then we should see a mismatch from one to the other. If there is a higher proportion of persons in a cluster for the customer data compared to the general population (e.g. 5% of persons are assigned to a cluster for the general population, but 15% of the customer data is closest to that cluster's centroid) then that suggests the people in that cluster to be a target audience for the company. On the other hand, the proportion of the data in a cluster being larger in the general population than the customer data (e.g. only 2% of customers closest to a population centroid that captures 6% of the data) suggests that group of persons to be outside of the target demographics.\n",
    "\n",
    "Take a look at the following points in this step:\n",
    "\n",
    "- Compute the proportion of data points in each cluster for the general population and the customer data. Visualizations will be useful here: both for the individual dataset proportions, but also to visualize the ratios in cluster representation between groups. Seaborn's [`countplot()`](https://seaborn.pydata.org/generated/seaborn.countplot.html) or [`barplot()`](https://seaborn.pydata.org/generated/seaborn.barplot.html) function could be handy.\n",
    "  - Recall the analysis you performed in step 1.1.3 of the project, where you separated out certain data points from the dataset if they had more than a specified threshold of missing values. If you found that this group was qualitatively different from the main bulk of the data, you should treat this as an additional data cluster in this analysis. Make sure that you account for the number of data points in this subset, for both the general population and customer datasets, when making your computations!\n",
    "- Which cluster or clusters are overrepresented in the customer dataset compared to the general population? Select at least one such cluster and infer what kind of people might be represented by that cluster. Use the principal component interpretations from step 2.3 or look at additional components to help you make this inference. Alternatively, you can use the `.inverse_transform()` method of the PCA and StandardScaler objects to transform centroids back to the original data space and interpret the retrieved values directly.\n",
    "- Perform a similar investigation for the underrepresented clusters. Which cluster or clusters are underrepresented in the customer dataset compared to the general population, and what kinds of people are typified by these clusters?"
   ]
  },
  {
   "cell_type": "code",
   "execution_count": 308,
   "metadata": {},
   "outputs": [],
   "source": [
    "# Account for rows with many missing values\n",
    "\n",
    "#for demographic dataframe\n",
    "df_null_more_20_labels= np.full(df_null_more_20.shape[0],-1)\n",
    "pred_demographics=np.concatenate([pred_demographics, df_null_more_20_labels])\n",
    "\n",
    "#for customer dataframe\n",
    "cleaned_customers_more20_labels=np.full(cleaned_customers_more20.shape[0],-1)\n",
    "pred_customers=np.concatenate([pred_customers, cleaned_customers_more20_labels])"
   ]
  },
  {
   "cell_type": "code",
   "execution_count": 313,
   "metadata": {},
   "outputs": [],
   "source": [
    "# Compare the proportion of data in each cluster for the customer data to the\n",
    "# proportion of data in each cluster for the general population.\n",
    "\n",
    "#proportion for demographic data\n",
    "clusters=list(set(pred_demographics))\n",
    "pred_demographics=list(pred_demographics)\n",
    "demographic_ratios=[]\n",
    "for c in clusters:\n",
    "    demographic_ratios.append(pred_demographics.count(c)/len(pred_demographics))"
   ]
  },
  {
   "cell_type": "code",
   "execution_count": 310,
   "metadata": {},
   "outputs": [],
   "source": [
    "#proportion for customer data\n",
    "clusters=list(set(pred_customers))\n",
    "pred_customers=list(pred_customers)\n",
    "customers_ratios=[]\n",
    "for c in clusters:\n",
    "    customers_ratios.append(pred_customers.count(c)/len(pred_customers))"
   ]
  },
  {
   "cell_type": "code",
   "execution_count": 312,
   "metadata": {},
   "outputs": [
    {
     "data": {
      "image/png": "[encoded data removed]",
      "text/plain": [
       "<matplotlib.figure.Figure at 0x7fa88e062588>"
      ]
     },
     "metadata": {
      "needs_background": "light"
     },
     "output_type": "display_data"
    }
   ],
   "source": [
    "# Numbers of pairs of bars you want\n",
    "N = 15\n",
    "\n",
    "# Specify the values of blue bars (height)\n",
    "blue_bar = demographic_ratios\n",
    "orange_bar = customers_ratios\n",
    "\n",
    "# Position of bars on x-axis\n",
    "ind = np.arange(N)\n",
    "\n",
    "# Figure size\n",
    "plt.figure(figsize=(10,5))\n",
    "width = 0.3       \n",
    "\n",
    "# Plotting\n",
    "plt.bar(ind, blue_bar , width, label='Demographic data')\n",
    "plt.bar(ind + width, orange_bar, width, label='Customer Data')\n",
    "\n",
    "plt.xlabel('Cluster Number')\n",
    "plt.ylabel('Proportion of Person')\n",
    "\n",
    "plt.xticks(ind + width / 2, clusters)\n",
    "\n",
    "plt.legend(loc='best')\n",
    "plt.show()\n"
   ]
  },
  {
   "cell_type": "code",
   "execution_count": 316,
   "metadata": {},
   "outputs": [
    {
     "data": {
      "text/plain": [
       "ALTERSKATEGORIE_GROB               3.275046\n",
       "ANREDE_KZ                          0.506789\n",
       "FINANZ_MINIMALIST                  4.527055\n",
       "FINANZ_SPARER                      1.761169\n",
       "FINANZ_VORSORGER                   4.077689\n",
       "FINANZ_ANLEGER                     1.956847\n",
       "FINANZ_UNAUFFAELLIGER              2.224592\n",
       "FINANZ_HAUSBAUER                   2.027975\n",
       "GREEN_AVANTGARDE                   0.995470\n",
       "HEALTH_TYP                         2.122041\n",
       "LP_LEBENSPHASE_FEIN               25.130826\n",
       "LP_LEBENSPHASE_GROB                7.295123\n",
       "RETOURTYP_BK_S                     3.661087\n",
       "SEMIO_SOZ                          4.036861\n",
       "SEMIO_FAM                          3.519346\n",
       "SEMIO_REL                          3.111375\n",
       "SEMIO_MAT                          3.216150\n",
       "SEMIO_VERT                         4.640688\n",
       "SEMIO_LUST                         5.124185\n",
       "SEMIO_ERL                          5.130065\n",
       "SEMIO_KULT                         3.592210\n",
       "SEMIO_RAT                          3.272366\n",
       "SEMIO_KRIT                         4.403112\n",
       "SEMIO_DOM                          4.707598\n",
       "SEMIO_KAEM                         4.248633\n",
       "SEMIO_PFLICHT                      3.360875\n",
       "SEMIO_TRADV                        3.124433\n",
       "SOHO_KZ                            0.009507\n",
       "VERS_TYP                           0.512025\n",
       "ANZ_PERSONEN                       2.277783\n",
       "                                    ...    \n",
       "CAMEO_DEU_2015_5B                  0.012032\n",
       "CAMEO_DEU_2015_5C                  0.014961\n",
       "CAMEO_DEU_2015_5D                  0.013906\n",
       "CAMEO_DEU_2015_5E                  0.019441\n",
       "CAMEO_DEU_2015_5F                  0.006764\n",
       "CAMEO_DEU_2015_6A                  0.010694\n",
       "CAMEO_DEU_2015_6B                  0.004516\n",
       "CAMEO_DEU_2015_6C                  0.072942\n",
       "CAMEO_DEU_2015_6D                  0.020676\n",
       "CAMEO_DEU_2015_6E                 -0.000913\n",
       "CAMEO_DEU_2015_6F                  0.005968\n",
       "CAMEO_DEU_2015_7A                  0.006347\n",
       "CAMEO_DEU_2015_7B                  0.020310\n",
       "CAMEO_DEU_2015_7C                  0.013606\n",
       "CAMEO_DEU_2015_7D                  0.006229\n",
       "CAMEO_DEU_2015_7E                  0.002874\n",
       "CAMEO_DEU_2015_8A                  0.005533\n",
       "CAMEO_DEU_2015_8B                  0.008845\n",
       "CAMEO_DEU_2015_8C                  0.013479\n",
       "CAMEO_DEU_2015_8D                  0.008789\n",
       "CAMEO_DEU_2015_9A                  0.002578\n",
       "CAMEO_DEU_2015_9B                  0.001381\n",
       "CAMEO_DEU_2015_9C                 -0.000749\n",
       "CAMEO_DEU_2015_9D                 -0.000871\n",
       "CAMEO_DEU_2015_9E                  0.008146\n",
       "PRAEGENDE_JUGENDJAHRE_MOVEMENT     0.002154\n",
       "PRAEGENDE_JUGENDJAHRE_DECADE       0.004530\n",
       "CAMEO_INTL_2015_WEALTH             3.701273\n",
       "CAMEO_INTL_2015_LIFE_STAGE         2.240677\n",
       "GEBAEUDETYP_5.0                    3.512435\n",
       "Length: 196, dtype: float64"
      ]
     },
     "execution_count": 316,
     "metadata": {},
     "output_type": "execute_result"
    }
   ],
   "source": [
    "# What kinds of people are part of a cluster that is overrepresented in the\n",
    "# customer data compared to the general population?\n",
    "\n",
    "\n",
    "centroid_12 = scaler.inverse_transform(pca100.inverse_transform(model.cluster_centers_[0]))\n",
    "overrepresented_c = pd.Series(data = centroid_12, index = cleaned_customers_less20.columns)\n",
    "overrepresented_c"
   ]
  },
  {
   "cell_type": "code",
   "execution_count": null,
   "metadata": {},
   "outputs": [],
   "source": []
  },
  {
   "cell_type": "markdown",
   "metadata": {},
   "source": [
    "**Few Characteristics for over-repsented clusters:**\n",
    "\n",
    "1. Estimated age around 46 - 60 years old\n",
    "2. very low financial interest\n",
    "3. high money-saver\n",
    "4. be prepared: low\n",
    "\n"
   ]
  },
  {
   "cell_type": "code",
   "execution_count": 317,
   "metadata": {},
   "outputs": [
    {
     "data": {
      "text/plain": [
       "ALTERSKATEGORIE_GROB              1.823539\n",
       "ANREDE_KZ                         0.977621\n",
       "FINANZ_MINIMALIST                 1.103325\n",
       "FINANZ_SPARER                     4.451074\n",
       "FINANZ_VORSORGER                  2.186989\n",
       "FINANZ_ANLEGER                    4.355612\n",
       "FINANZ_UNAUFFAELLIGER             3.838525\n",
       "FINANZ_HAUSBAUER                  4.351139\n",
       "GREEN_AVANTGARDE                  0.036612\n",
       "HEALTH_TYP                        2.363279\n",
       "LP_LEBENSPHASE_FEIN               8.002858\n",
       "LP_LEBENSPHASE_GROB               2.979234\n",
       "RETOURTYP_BK_S                    2.623460\n",
       "SEMIO_SOZ                         3.240578\n",
       "SEMIO_FAM                         3.920878\n",
       "SEMIO_REL                         5.308232\n",
       "SEMIO_MAT                         4.675527\n",
       "SEMIO_VERT                        2.296974\n",
       "SEMIO_LUST                        3.324997\n",
       "SEMIO_ERL                         4.392384\n",
       "SEMIO_KULT                        4.041086\n",
       "SEMIO_RAT                         5.905815\n",
       "SEMIO_KRIT                        5.456101\n",
       "SEMIO_DOM                         6.047070\n",
       "SEMIO_KAEM                        6.021118\n",
       "SEMIO_PFLICHT                     6.001823\n",
       "SEMIO_TRADV                       5.282569\n",
       "SOHO_KZ                           0.004283\n",
       "VERS_TYP                          0.558723\n",
       "ANZ_PERSONEN                      1.385262\n",
       "                                    ...   \n",
       "CAMEO_DEU_2015_5B                 0.019604\n",
       "CAMEO_DEU_2015_5C                 0.007914\n",
       "CAMEO_DEU_2015_5D                 0.009545\n",
       "CAMEO_DEU_2015_5E                 0.018632\n",
       "CAMEO_DEU_2015_5F                 0.003997\n",
       "CAMEO_DEU_2015_6A                 0.003235\n",
       "CAMEO_DEU_2015_6B                 0.013804\n",
       "CAMEO_DEU_2015_6C                 0.067152\n",
       "CAMEO_DEU_2015_6D                 0.020675\n",
       "CAMEO_DEU_2015_6E                -0.000023\n",
       "CAMEO_DEU_2015_6F                 0.018686\n",
       "CAMEO_DEU_2015_7A                 0.005815\n",
       "CAMEO_DEU_2015_7B                 0.061577\n",
       "CAMEO_DEU_2015_7C                 0.055500\n",
       "CAMEO_DEU_2015_7D                 0.018017\n",
       "CAMEO_DEU_2015_7E                 0.009695\n",
       "CAMEO_DEU_2015_8A                 0.005161\n",
       "CAMEO_DEU_2015_8B                 0.150289\n",
       "CAMEO_DEU_2015_8C                 0.078009\n",
       "CAMEO_DEU_2015_8D                 0.074474\n",
       "CAMEO_DEU_2015_9A                 0.028249\n",
       "CAMEO_DEU_2015_9B                 0.004290\n",
       "CAMEO_DEU_2015_9C                 0.085562\n",
       "CAMEO_DEU_2015_9D                 0.068161\n",
       "CAMEO_DEU_2015_9E                 0.091005\n",
       "PRAEGENDE_JUGENDJAHRE_MOVEMENT    0.002851\n",
       "PRAEGENDE_JUGENDJAHRE_DECADE      0.963388\n",
       "CAMEO_INTL_2015_WEALTH            5.755631\n",
       "CAMEO_INTL_2015_LIFE_STAGE        4.294530\n",
       "GEBAEUDETYP_5.0                   2.062804\n",
       "Length: 196, dtype: float64"
      ]
     },
     "execution_count": 317,
     "metadata": {},
     "output_type": "execute_result"
    }
   ],
   "source": [
    "# What kinds of people are part of a cluster that is underrepresented in the\n",
    "# customer data compared to the general population?\n",
    "centroid_13 = scaler.inverse_transform(pca100.inverse_transform(model.cluster_centers_[7]))\n",
    "underrepresented_c = pd.Series(data = centroid_13, index = cleaned_customers_less20.columns)\n",
    "underrepresented_c"
   ]
  },
  {
   "cell_type": "markdown",
   "metadata": {},
   "source": [
    "**Few Characteristics for under-repsented clusters**\n",
    "\n",
    "1. Estimated age around 30-45 years old\n",
    "2. very high financial interest\n",
    "3. low money-saver\n",
    "4. be prepared: high"
   ]
  },
  {
   "cell_type": "markdown",
   "metadata": {},
   "source": [
    "### Discussion 3.3: Compare Customer Data to Demographics Data\n",
    "\n",
    "(Double-click this cell and replace this text with your own text, reporting findings and conclusions from the clustering analysis. Can we describe segments of the population that are relatively popular with the mail-order company, or relatively unpopular with the company?)\n",
    "\n",
    "By looking at the combined bar chart, it can be seen that the cluster points like 0, 3, 6 and 11 are highly likely customer segments as there is a higher proportion of persons in a cluster for the customer data compared to the general population. While cluster points like 1,2,4, 5 and 7 are less likely to be turned into customers segments as there is a lower proportion of persons in a cluster for the customer data compared to the general population. "
   ]
  },
  {
   "cell_type": "markdown",
   "metadata": {},
   "source": [
    "> Congratulations on making it this far in the project! Before you finish, make sure to check through the entire notebook from top to bottom to make sure that your analysis follows a logical flow and all of your findings are documented in **Discussion** cells. Once you've checked over all of your work, you should export the notebook as an HTML document to submit for evaluation. You can do this from the menu, navigating to **File -> Download as -> HTML (.html)**. You will submit both that document and this notebook for your project submission."
   ]
  },
  {
   "cell_type": "code",
   "execution_count": null,
   "metadata": {
    "collapsed": true
   },
   "outputs": [],
   "source": []
  }
 ],
 "metadata": {
  "kernelspec": {
   "display_name": "Python 3",
   "language": "python",
   "name": "python3"
  },
  "language_info": {
   "codemirror_mode": {
    "name": "ipython",
    "version": 3
   },
   "file_extension": ".py",
   "mimetype": "text/x-python",
   "name": "python",
   "nbconvert_exporter": "python",
   "pygments_lexer": "ipython3",
   "version": "3.6.3"
  }
 },
 "nbformat": 4,
 "nbformat_minor": 2
}
